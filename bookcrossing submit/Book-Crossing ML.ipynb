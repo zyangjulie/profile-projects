{
 "cells": [
  {
   "cell_type": "code",
   "execution_count": 494,
   "id": "2e3ef743",
   "metadata": {},
   "outputs": [],
   "source": [
    "import pandas as pd\n",
    "import numpy as np\n",
    "import random\n",
    "\n",
    "import seaborn as sns\n",
    "import matplotlib.pyplot as plt\n",
    "%matplotlib inline"
   ]
  },
  {
   "cell_type": "code",
   "execution_count": 60,
   "id": "276adecc",
   "metadata": {
    "collapsed": true
   },
   "outputs": [
    {
     "name": "stderr",
     "output_type": "stream",
     "text": [
      "C:\\Users\\crazy\\AppData\\Local\\Temp\\ipykernel_11820\\3652881321.py:1: FutureWarning: Passing a negative integer is deprecated in version 1.0 and will not be supported in future version. Instead, use None to not limit the column width.\n",
      "  pd.set_option('display.max_colwidth', -1)\n"
     ]
    }
   ],
   "source": [
    "# set max column width to display all column information properly\n",
    "pd.set_option('display.max_colwidth', -1)"
   ]
  },
  {
   "cell_type": "code",
   "execution_count": 24,
   "id": "87683a3b",
   "metadata": {},
   "outputs": [
    {
     "name": "stderr",
     "output_type": "stream",
     "text": [
      "C:\\Users\\crazy\\AppData\\Local\\Temp\\ipykernel_11820\\310732244.py:1: DtypeWarning: Columns (3) have mixed types. Specify dtype option on import or set low_memory=False.\n",
      "  books = pd.read_csv('C:/Users/crazy/OneDrive/Desktop/BookCrossing/BX-Books.csv', sep=';', encoding = 'latin-1',\n"
     ]
    }
   ],
   "source": [
    "books = pd.read_csv('C:/Users/crazy/OneDrive/Desktop/BookCrossing/BX-Books.csv', sep=';', encoding = 'latin-1', \n",
    "                   on_bad_lines='skip')\n",
    "\n",
    "books.columns = ['isbn', 'book_title', 'book_author', 'year_of_publication', 'publisher', \n",
    "                 'image_url_s', 'image_url_m', 'image_url_l']"
   ]
  },
  {
   "cell_type": "code",
   "execution_count": 208,
   "id": "8474e40d",
   "metadata": {},
   "outputs": [],
   "source": [
    "users = pd.read_csv('C:/Users/crazy/OneDrive/Desktop/BookCrossing/BX-Users.csv', sep=';', encoding = 'latin-1', \n",
    "                   on_bad_lines='skip')\n",
    "\n",
    "users.columns = ['user_id', 'location', 'age']"
   ]
  },
  {
   "cell_type": "code",
   "execution_count": 209,
   "id": "7e929755",
   "metadata": {},
   "outputs": [],
   "source": [
    "ratings = pd.read_csv('C:/Users/crazy/OneDrive/Desktop/BookCrossing/BX-Book-Ratings.csv', sep=';', encoding = 'latin-1', \n",
    "                   on_bad_lines='skip')\n",
    "\n",
    "ratings.columns = ['user_id', 'isbn', 'book_rating']"
   ]
  },
  {
   "cell_type": "markdown",
   "id": "3794338a",
   "metadata": {},
   "source": [
    "## Books"
   ]
  },
  {
   "cell_type": "code",
   "execution_count": 30,
   "id": "16dce2d5",
   "metadata": {},
   "outputs": [
    {
     "data": {
      "text/html": [
       "<div>\n",
       "<style scoped>\n",
       "    .dataframe tbody tr th:only-of-type {\n",
       "        vertical-align: middle;\n",
       "    }\n",
       "\n",
       "    .dataframe tbody tr th {\n",
       "        vertical-align: top;\n",
       "    }\n",
       "\n",
       "    .dataframe thead th {\n",
       "        text-align: right;\n",
       "    }\n",
       "</style>\n",
       "<table border=\"1\" class=\"dataframe\">\n",
       "  <thead>\n",
       "    <tr style=\"text-align: right;\">\n",
       "      <th></th>\n",
       "      <th>isbn</th>\n",
       "      <th>book_title</th>\n",
       "      <th>book_author</th>\n",
       "      <th>year_of_publication</th>\n",
       "      <th>publisher</th>\n",
       "      <th>image_url_s</th>\n",
       "      <th>image_url_m</th>\n",
       "      <th>image_url_l</th>\n",
       "    </tr>\n",
       "  </thead>\n",
       "  <tbody>\n",
       "    <tr>\n",
       "      <th>0</th>\n",
       "      <td>0195153448</td>\n",
       "      <td>Classical Mythology</td>\n",
       "      <td>Mark P. O. Morford</td>\n",
       "      <td>2002</td>\n",
       "      <td>Oxford University Press</td>\n",
       "      <td>http://images.amazon.com/images/P/0195153448.0...</td>\n",
       "      <td>http://images.amazon.com/images/P/0195153448.0...</td>\n",
       "      <td>http://images.amazon.com/images/P/0195153448.0...</td>\n",
       "    </tr>\n",
       "    <tr>\n",
       "      <th>1</th>\n",
       "      <td>0002005018</td>\n",
       "      <td>Clara Callan</td>\n",
       "      <td>Richard Bruce Wright</td>\n",
       "      <td>2001</td>\n",
       "      <td>HarperFlamingo Canada</td>\n",
       "      <td>http://images.amazon.com/images/P/0002005018.0...</td>\n",
       "      <td>http://images.amazon.com/images/P/0002005018.0...</td>\n",
       "      <td>http://images.amazon.com/images/P/0002005018.0...</td>\n",
       "    </tr>\n",
       "    <tr>\n",
       "      <th>2</th>\n",
       "      <td>0060973129</td>\n",
       "      <td>Decision in Normandy</td>\n",
       "      <td>Carlo D'Este</td>\n",
       "      <td>1991</td>\n",
       "      <td>HarperPerennial</td>\n",
       "      <td>http://images.amazon.com/images/P/0060973129.0...</td>\n",
       "      <td>http://images.amazon.com/images/P/0060973129.0...</td>\n",
       "      <td>http://images.amazon.com/images/P/0060973129.0...</td>\n",
       "    </tr>\n",
       "    <tr>\n",
       "      <th>3</th>\n",
       "      <td>0374157065</td>\n",
       "      <td>Flu: The Story of the Great Influenza Pandemic...</td>\n",
       "      <td>Gina Bari Kolata</td>\n",
       "      <td>1999</td>\n",
       "      <td>Farrar Straus Giroux</td>\n",
       "      <td>http://images.amazon.com/images/P/0374157065.0...</td>\n",
       "      <td>http://images.amazon.com/images/P/0374157065.0...</td>\n",
       "      <td>http://images.amazon.com/images/P/0374157065.0...</td>\n",
       "    </tr>\n",
       "    <tr>\n",
       "      <th>4</th>\n",
       "      <td>0393045218</td>\n",
       "      <td>The Mummies of Urumchi</td>\n",
       "      <td>E. J. W. Barber</td>\n",
       "      <td>1999</td>\n",
       "      <td>W. W. Norton &amp;amp; Company</td>\n",
       "      <td>http://images.amazon.com/images/P/0393045218.0...</td>\n",
       "      <td>http://images.amazon.com/images/P/0393045218.0...</td>\n",
       "      <td>http://images.amazon.com/images/P/0393045218.0...</td>\n",
       "    </tr>\n",
       "  </tbody>\n",
       "</table>\n",
       "</div>"
      ],
      "text/plain": [
       "         isbn                                         book_title  \\\n",
       "0  0195153448                                Classical Mythology   \n",
       "1  0002005018                                       Clara Callan   \n",
       "2  0060973129                               Decision in Normandy   \n",
       "3  0374157065  Flu: The Story of the Great Influenza Pandemic...   \n",
       "4  0393045218                             The Mummies of Urumchi   \n",
       "\n",
       "            book_author year_of_publication                   publisher  \\\n",
       "0    Mark P. O. Morford                2002     Oxford University Press   \n",
       "1  Richard Bruce Wright                2001       HarperFlamingo Canada   \n",
       "2          Carlo D'Este                1991             HarperPerennial   \n",
       "3      Gina Bari Kolata                1999        Farrar Straus Giroux   \n",
       "4       E. J. W. Barber                1999  W. W. Norton &amp; Company   \n",
       "\n",
       "                                         image_url_s  \\\n",
       "0  http://images.amazon.com/images/P/0195153448.0...   \n",
       "1  http://images.amazon.com/images/P/0002005018.0...   \n",
       "2  http://images.amazon.com/images/P/0060973129.0...   \n",
       "3  http://images.amazon.com/images/P/0374157065.0...   \n",
       "4  http://images.amazon.com/images/P/0393045218.0...   \n",
       "\n",
       "                                         image_url_m  \\\n",
       "0  http://images.amazon.com/images/P/0195153448.0...   \n",
       "1  http://images.amazon.com/images/P/0002005018.0...   \n",
       "2  http://images.amazon.com/images/P/0060973129.0...   \n",
       "3  http://images.amazon.com/images/P/0374157065.0...   \n",
       "4  http://images.amazon.com/images/P/0393045218.0...   \n",
       "\n",
       "                                         image_url_l  \n",
       "0  http://images.amazon.com/images/P/0195153448.0...  \n",
       "1  http://images.amazon.com/images/P/0002005018.0...  \n",
       "2  http://images.amazon.com/images/P/0060973129.0...  \n",
       "3  http://images.amazon.com/images/P/0374157065.0...  \n",
       "4  http://images.amazon.com/images/P/0393045218.0...  "
      ]
     },
     "execution_count": 30,
     "metadata": {},
     "output_type": "execute_result"
    }
   ],
   "source": [
    "books.head()"
   ]
  },
  {
   "cell_type": "code",
   "execution_count": 37,
   "id": "fc26b040",
   "metadata": {},
   "outputs": [
    {
     "name": "stdout",
     "output_type": "stream",
     "text": [
      "<class 'pandas.core.frame.DataFrame'>\n",
      "RangeIndex: 271360 entries, 0 to 271359\n",
      "Data columns (total 8 columns):\n",
      " #   Column               Non-Null Count   Dtype \n",
      "---  ------               --------------   ----- \n",
      " 0   isbn                 271360 non-null  object\n",
      " 1   book_title           271360 non-null  object\n",
      " 2   book_author          271359 non-null  object\n",
      " 3   year_of_publication  271360 non-null  object\n",
      " 4   publisher            271358 non-null  object\n",
      " 5   image_url_s          271360 non-null  object\n",
      " 6   image_url_m          271360 non-null  object\n",
      " 7   image_url_l          271357 non-null  object\n",
      "dtypes: object(8)\n",
      "memory usage: 16.6+ MB\n"
     ]
    }
   ],
   "source": [
    "books.info()"
   ]
  },
  {
   "cell_type": "markdown",
   "id": "c64dd72f",
   "metadata": {},
   "source": [
    "### image_url_s, image_url_m, image_url_l\n",
    "- does not seem that image links will contribute to recommender analysis\n",
    "- safe to assume we can drop these columns"
   ]
  },
  {
   "cell_type": "code",
   "execution_count": 62,
   "id": "2b0d8ade",
   "metadata": {},
   "outputs": [],
   "source": [
    "books = books.drop(['image_url_s', 'image_url_m', 'image_url_l'], axis = 1)"
   ]
  },
  {
   "cell_type": "code",
   "execution_count": 63,
   "id": "cd51444a",
   "metadata": {},
   "outputs": [
    {
     "data": {
      "text/html": [
       "<div>\n",
       "<style scoped>\n",
       "    .dataframe tbody tr th:only-of-type {\n",
       "        vertical-align: middle;\n",
       "    }\n",
       "\n",
       "    .dataframe tbody tr th {\n",
       "        vertical-align: top;\n",
       "    }\n",
       "\n",
       "    .dataframe thead th {\n",
       "        text-align: right;\n",
       "    }\n",
       "</style>\n",
       "<table border=\"1\" class=\"dataframe\">\n",
       "  <thead>\n",
       "    <tr style=\"text-align: right;\">\n",
       "      <th></th>\n",
       "      <th>isbn</th>\n",
       "      <th>book_title</th>\n",
       "      <th>book_author</th>\n",
       "      <th>year_of_publication</th>\n",
       "      <th>publisher</th>\n",
       "    </tr>\n",
       "  </thead>\n",
       "  <tbody>\n",
       "    <tr>\n",
       "      <th>0</th>\n",
       "      <td>0195153448</td>\n",
       "      <td>Classical Mythology</td>\n",
       "      <td>Mark P. O. Morford</td>\n",
       "      <td>2002</td>\n",
       "      <td>Oxford University Press</td>\n",
       "    </tr>\n",
       "    <tr>\n",
       "      <th>1</th>\n",
       "      <td>0002005018</td>\n",
       "      <td>Clara Callan</td>\n",
       "      <td>Richard Bruce Wright</td>\n",
       "      <td>2001</td>\n",
       "      <td>HarperFlamingo Canada</td>\n",
       "    </tr>\n",
       "    <tr>\n",
       "      <th>2</th>\n",
       "      <td>0060973129</td>\n",
       "      <td>Decision in Normandy</td>\n",
       "      <td>Carlo D'Este</td>\n",
       "      <td>1991</td>\n",
       "      <td>HarperPerennial</td>\n",
       "    </tr>\n",
       "    <tr>\n",
       "      <th>3</th>\n",
       "      <td>0374157065</td>\n",
       "      <td>Flu: The Story of the Great Influenza Pandemic of 1918 and the Search for the Virus That Caused It</td>\n",
       "      <td>Gina Bari Kolata</td>\n",
       "      <td>1999</td>\n",
       "      <td>Farrar Straus Giroux</td>\n",
       "    </tr>\n",
       "    <tr>\n",
       "      <th>4</th>\n",
       "      <td>0393045218</td>\n",
       "      <td>The Mummies of Urumchi</td>\n",
       "      <td>E. J. W. Barber</td>\n",
       "      <td>1999</td>\n",
       "      <td>W. W. Norton &amp;amp; Company</td>\n",
       "    </tr>\n",
       "  </tbody>\n",
       "</table>\n",
       "</div>"
      ],
      "text/plain": [
       "         isbn  \\\n",
       "0  0195153448   \n",
       "1  0002005018   \n",
       "2  0060973129   \n",
       "3  0374157065   \n",
       "4  0393045218   \n",
       "\n",
       "                                                                                           book_title  \\\n",
       "0  Classical Mythology                                                                                  \n",
       "1  Clara Callan                                                                                         \n",
       "2  Decision in Normandy                                                                                 \n",
       "3  Flu: The Story of the Great Influenza Pandemic of 1918 and the Search for the Virus That Caused It   \n",
       "4  The Mummies of Urumchi                                                                               \n",
       "\n",
       "            book_author year_of_publication                   publisher  \n",
       "0  Mark P. O. Morford    2002                Oxford University Press     \n",
       "1  Richard Bruce Wright  2001                HarperFlamingo Canada       \n",
       "2  Carlo D'Este          1991                HarperPerennial             \n",
       "3  Gina Bari Kolata      1999                Farrar Straus Giroux        \n",
       "4  E. J. W. Barber       1999                W. W. Norton &amp; Company  "
      ]
     },
     "execution_count": 63,
     "metadata": {},
     "output_type": "execute_result"
    }
   ],
   "source": [
    "books.head()"
   ]
  },
  {
   "cell_type": "markdown",
   "id": "4134e31f",
   "metadata": {},
   "source": [
    "### year_of_publication\n",
    "- why is this column an object instead of an int?"
   ]
  },
  {
   "cell_type": "code",
   "execution_count": 43,
   "id": "11051878",
   "metadata": {},
   "outputs": [
    {
     "data": {
      "text/plain": [
       "array([2002, 2001, 1991, 1999, 2000, 1993, 1996, 1988, 2004, 1998, 1994,\n",
       "       2003, 1997, 1983, 1979, 1995, 1982, 1985, 1992, 1986, 1978, 1980,\n",
       "       1952, 1987, 1990, 1981, 1989, 1984, 0, 1968, 1961, 1958, 1974,\n",
       "       1976, 1971, 1977, 1975, 1965, 1941, 1970, 1962, 1973, 1972, 1960,\n",
       "       1966, 1920, 1956, 1959, 1953, 1951, 1942, 1963, 1964, 1969, 1954,\n",
       "       1950, 1967, 2005, 1957, 1940, 1937, 1955, 1946, 1936, 1930, 2011,\n",
       "       1925, 1948, 1943, 1947, 1945, 1923, 2020, 1939, 1926, 1938, 2030,\n",
       "       1911, 1904, 1949, 1932, 1928, 1929, 1927, 1931, 1914, 2050, 1934,\n",
       "       1910, 1933, 1902, 1924, 1921, 1900, 2038, 2026, 1944, 1917, 1901,\n",
       "       2010, 1908, 1906, 1935, 1806, 2021, '2000', '1995', '1999', '2004',\n",
       "       '2003', '1990', '1994', '1986', '1989', '2002', '1981', '1993',\n",
       "       '1983', '1982', '1976', '1991', '1977', '1998', '1992', '1996',\n",
       "       '0', '1997', '2001', '1974', '1968', '1987', '1984', '1988',\n",
       "       '1963', '1956', '1970', '1985', '1978', '1973', '1980', '1979',\n",
       "       '1975', '1969', '1961', '1965', '1939', '1958', '1950', '1953',\n",
       "       '1966', '1971', '1959', '1972', '1955', '1957', '1945', '1960',\n",
       "       '1967', '1932', '1924', '1964', '2012', '1911', '1927', '1948',\n",
       "       '1962', '2006', '1952', '1940', '1951', '1931', '1954', '2005',\n",
       "       '1930', '1941', '1944', 'DK Publishing Inc', '1943', '1938',\n",
       "       '1900', '1942', '1923', '1920', '1933', 'Gallimard', '1909',\n",
       "       '1946', '2008', '1378', '2030', '1936', '1947', '2011', '2020',\n",
       "       '1919', '1949', '1922', '1897', '2024', '1376', '1926', '2037'],\n",
       "      dtype=object)"
      ]
     },
     "execution_count": 43,
     "metadata": {},
     "output_type": "execute_result"
    }
   ],
   "source": [
    "books['year_of_publication'].unique()"
   ]
  },
  {
   "cell_type": "markdown",
   "id": "307bc804",
   "metadata": {},
   "source": [
    "- some values are actual years\n",
    "- 'DK Publishing Inc' and 'Gallimard' appear in the years\n",
    "- some of the years are entered as strings\n",
    "- year 0 does not make sense and years greater than the date the dataset was gathered, 2004, does not make sense"
   ]
  },
  {
   "cell_type": "code",
   "execution_count": 78,
   "id": "5638390a",
   "metadata": {},
   "outputs": [
    {
     "data": {
      "text/html": [
       "<div>\n",
       "<style scoped>\n",
       "    .dataframe tbody tr th:only-of-type {\n",
       "        vertical-align: middle;\n",
       "    }\n",
       "\n",
       "    .dataframe tbody tr th {\n",
       "        vertical-align: top;\n",
       "    }\n",
       "\n",
       "    .dataframe thead th {\n",
       "        text-align: right;\n",
       "    }\n",
       "</style>\n",
       "<table border=\"1\" class=\"dataframe\">\n",
       "  <thead>\n",
       "    <tr style=\"text-align: right;\">\n",
       "      <th></th>\n",
       "      <th>isbn</th>\n",
       "      <th>book_title</th>\n",
       "      <th>book_author</th>\n",
       "      <th>year_of_publication</th>\n",
       "      <th>publisher</th>\n",
       "    </tr>\n",
       "  </thead>\n",
       "  <tbody>\n",
       "    <tr>\n",
       "      <th>221678</th>\n",
       "      <td>0789466953</td>\n",
       "      <td>DK Readers: Creating the X-Men, How Comic Books Come to Life (Level 4: Proficient Readers)\\\";James Buckley\"</td>\n",
       "      <td>2000</td>\n",
       "      <td>DK Publishing Inc</td>\n",
       "      <td>http://images.amazon.com/images/P/0789466953.01.THUMBZZZ.jpg</td>\n",
       "    </tr>\n",
       "  </tbody>\n",
       "</table>\n",
       "</div>"
      ],
      "text/plain": [
       "              isbn  \\\n",
       "221678  0789466953   \n",
       "\n",
       "                                                                                                         book_title  \\\n",
       "221678  DK Readers: Creating the X-Men, How Comic Books Come to Life (Level 4: Proficient Readers)\\\";James Buckley\"   \n",
       "\n",
       "       book_author year_of_publication  \\\n",
       "221678  2000        DK Publishing Inc    \n",
       "\n",
       "                                                           publisher  \n",
       "221678  http://images.amazon.com/images/P/0789466953.01.THUMBZZZ.jpg  "
      ]
     },
     "execution_count": 78,
     "metadata": {},
     "output_type": "execute_result"
    }
   ],
   "source": [
    "# looking into the rows where 'year_of_publication' is DK Publishin Inc\n",
    "books[books['year_of_publication'] == 'DK Publishing Inc']"
   ]
  },
  {
   "cell_type": "markdown",
   "id": "3c8387c9",
   "metadata": {},
   "source": [
    "It seems that the book_title did not get separated properly with the author on these rows\n",
    "- We need to alter these two rows manually\n",
    "- Start by altering from the right most column, then work leftwards\n",
    "- on index 209538 and 221678"
   ]
  },
  {
   "cell_type": "markdown",
   "id": "fc66a67b",
   "metadata": {},
   "source": [
    "##### For index at 209538"
   ]
  },
  {
   "cell_type": "code",
   "execution_count": 73,
   "id": "c28ef268",
   "metadata": {},
   "outputs": [],
   "source": [
    "# alter publisher \n",
    "books.loc[209538,'publisher'] = 'DK Publishing Inc'"
   ]
  },
  {
   "cell_type": "code",
   "execution_count": 76,
   "id": "1400d16f",
   "metadata": {},
   "outputs": [],
   "source": [
    "# alter year_of_publication\n",
    "books.loc[209538, 'year_of_publication'] = 2000"
   ]
  },
  {
   "cell_type": "code",
   "execution_count": 86,
   "id": "d7a2750b",
   "metadata": {},
   "outputs": [],
   "source": [
    "# alter book_author\n",
    "books.loc[209538, 'book_author'] = 'Michael Teitelbaum'"
   ]
  },
  {
   "cell_type": "code",
   "execution_count": 89,
   "id": "21a0a4b1",
   "metadata": {},
   "outputs": [],
   "source": [
    "# alter book_title\n",
    "books.loc[209538, 'book_title'] = 'DK Readers: Creating the X-Men, How It All Began (Level 4: Proficient Readers)'"
   ]
  },
  {
   "cell_type": "markdown",
   "id": "cca20382",
   "metadata": {},
   "source": [
    "##### For index at 221678"
   ]
  },
  {
   "cell_type": "code",
   "execution_count": 93,
   "id": "529ef3ac",
   "metadata": {},
   "outputs": [],
   "source": [
    "# alter publisher \n",
    "books.loc[221678,'publisher'] = 'DK Publishing Inc'"
   ]
  },
  {
   "cell_type": "code",
   "execution_count": 95,
   "id": "cbf0cf80",
   "metadata": {},
   "outputs": [],
   "source": [
    "# alter year_of_publication\n",
    "books.loc[221678, 'year_of_publication'] = 2000"
   ]
  },
  {
   "cell_type": "code",
   "execution_count": 101,
   "id": "86bdb0d9",
   "metadata": {},
   "outputs": [],
   "source": [
    "# alter book_author\n",
    "books.loc[221678, 'book_author'] = 'James Buckley'"
   ]
  },
  {
   "cell_type": "code",
   "execution_count": 102,
   "id": "2241b3b4",
   "metadata": {},
   "outputs": [],
   "source": [
    "# alter book_title\n",
    "books.loc[221678, 'book_title'] = 'DK Readers: Creating the X-Men, How Comic Books Come to Life (Level 4: Proficient Readers)'"
   ]
  },
  {
   "cell_type": "code",
   "execution_count": 109,
   "id": "8c574420",
   "metadata": {},
   "outputs": [
    {
     "data": {
      "text/plain": [
       "isbn                   0789466953                                                                                \n",
       "book_title             DK Readers: Creating the X-Men, How Comic Books Come to Life (Level 4: Proficient Readers)\n",
       "book_author            James Buckley                                                                             \n",
       "year_of_publication    2000                                                                                      \n",
       "publisher              DK Publishing Inc                                                                         \n",
       "Name: 221678, dtype: object"
      ]
     },
     "execution_count": 109,
     "metadata": {},
     "output_type": "execute_result"
    }
   ],
   "source": [
    "# row should be properly set now\n",
    "books.loc[221678]"
   ]
  },
  {
   "cell_type": "markdown",
   "id": "a834d120",
   "metadata": {},
   "source": [
    "For year_of_publication = 'Gallimard'\n",
    "- index is at 220731\n",
    "- need to adjust this row as well"
   ]
  },
  {
   "cell_type": "markdown",
   "id": "40257fc7",
   "metadata": {},
   "source": [
    "##### For index at 220731"
   ]
  },
  {
   "cell_type": "code",
   "execution_count": 103,
   "id": "901bb572",
   "metadata": {},
   "outputs": [],
   "source": [
    "# alter publisher \n",
    "books.loc[220731,'publisher'] = 'Gallimard'"
   ]
  },
  {
   "cell_type": "code",
   "execution_count": 104,
   "id": "ecb046ae",
   "metadata": {},
   "outputs": [],
   "source": [
    "# alter year_of_publication\n",
    "books.loc[220731,'year_of_publication'] = '2003'"
   ]
  },
  {
   "cell_type": "code",
   "execution_count": 105,
   "id": "f3fcd286",
   "metadata": {},
   "outputs": [],
   "source": [
    "# alter book_author \n",
    "books.loc[220731,'book_author'] = 'Jean-Marie Gustave Le ClÃ?Â©zio'"
   ]
  },
  {
   "cell_type": "code",
   "execution_count": 106,
   "id": "876ffc4f",
   "metadata": {},
   "outputs": [],
   "source": [
    "# alter book_title\n",
    "books.loc[220731,'book_title'] = \"Peuple du ciel, suivi de 'Les Bergers\""
   ]
  },
  {
   "cell_type": "code",
   "execution_count": 108,
   "id": "ea029940",
   "metadata": {},
   "outputs": [
    {
     "data": {
      "text/plain": [
       "isbn                   2070426769                           \n",
       "book_title             Peuple du ciel, suivi de 'Les Bergers\n",
       "book_author            Jean-Marie Gustave Le ClÃ?Â©zio      \n",
       "year_of_publication    2003                                 \n",
       "publisher              Gallimard                            \n",
       "Name: 220731, dtype: object"
      ]
     },
     "execution_count": 108,
     "metadata": {},
     "output_type": "execute_result"
    }
   ],
   "source": [
    "# row should be properly set now\n",
    "books.loc[220731]"
   ]
  },
  {
   "cell_type": "markdown",
   "id": "de8b964e",
   "metadata": {},
   "source": [
    "#### Next, we need to change the type of this field to be int, and thus will get rid of the quotes as well"
   ]
  },
  {
   "cell_type": "code",
   "execution_count": 111,
   "id": "d84d0ff3",
   "metadata": {},
   "outputs": [],
   "source": [
    "books['year_of_publication'] = books['year_of_publication'].astype(int)"
   ]
  },
  {
   "cell_type": "markdown",
   "id": "0371569d",
   "metadata": {},
   "source": [
    "#### Remove the year_of_publication = 0 or > 2008 (4 year margin in case the dataset was updated)\n",
    "- First we filter these affect years and set then to NaN\n",
    "- then we can use fillnan to a certain value\n",
    "- for simplisticity sake, we'll use the year_of_publication mean"
   ]
  },
  {
   "cell_type": "code",
   "execution_count": 145,
   "id": "7f5cc5e1",
   "metadata": {},
   "outputs": [],
   "source": [
    "# set the erroneous values to NaN using numpy\n",
    "books.loc[(books['year_of_publication'] == 0) | (books['year_of_publication'] > 2008), 'year_of_publication'] = np.NAN"
   ]
  },
  {
   "cell_type": "code",
   "execution_count": 157,
   "id": "23d31c62",
   "metadata": {},
   "outputs": [],
   "source": [
    "# calculate the year_of_publication mean\n",
    "pub_mean =  round(books['year_of_publication'].mean())"
   ]
  },
  {
   "cell_type": "code",
   "execution_count": 163,
   "id": "ae2f7639",
   "metadata": {},
   "outputs": [],
   "source": [
    "# replace NaN with the publication mean\n",
    "books['year_of_publication'] = books['year_of_publication'].fillna(pub_mean)"
   ]
  },
  {
   "cell_type": "code",
   "execution_count": 165,
   "id": "bb558a5b",
   "metadata": {},
   "outputs": [],
   "source": [
    "# need to convert the type back to int because np.NAN convert column to a float\n",
    "books['year_of_publication'] = books['year_of_publication'].astype(int)"
   ]
  },
  {
   "cell_type": "markdown",
   "id": "74e04b4f",
   "metadata": {},
   "source": [
    "### book_author\n",
    "- We have one NaN book_author"
   ]
  },
  {
   "cell_type": "code",
   "execution_count": 170,
   "id": "a544e523",
   "metadata": {},
   "outputs": [
    {
     "data": {
      "text/html": [
       "<div>\n",
       "<style scoped>\n",
       "    .dataframe tbody tr th:only-of-type {\n",
       "        vertical-align: middle;\n",
       "    }\n",
       "\n",
       "    .dataframe tbody tr th {\n",
       "        vertical-align: top;\n",
       "    }\n",
       "\n",
       "    .dataframe thead th {\n",
       "        text-align: right;\n",
       "    }\n",
       "</style>\n",
       "<table border=\"1\" class=\"dataframe\">\n",
       "  <thead>\n",
       "    <tr style=\"text-align: right;\">\n",
       "      <th></th>\n",
       "      <th>isbn</th>\n",
       "      <th>book_title</th>\n",
       "      <th>book_author</th>\n",
       "      <th>year_of_publication</th>\n",
       "      <th>publisher</th>\n",
       "    </tr>\n",
       "  </thead>\n",
       "  <tbody>\n",
       "    <tr>\n",
       "      <th>187689</th>\n",
       "      <td>9627982032</td>\n",
       "      <td>The Credit Suisse Guide to Managing Your Personal Wealth</td>\n",
       "      <td>NaN</td>\n",
       "      <td>1995</td>\n",
       "      <td>Edinburgh Financial Publishing</td>\n",
       "    </tr>\n",
       "  </tbody>\n",
       "</table>\n",
       "</div>"
      ],
      "text/plain": [
       "              isbn                                                book_title  \\\n",
       "187689  9627982032  The Credit Suisse Guide to Managing Your Personal Wealth   \n",
       "\n",
       "       book_author  year_of_publication                       publisher  \n",
       "187689  NaN         1995                 Edinburgh Financial Publishing  "
      ]
     },
     "execution_count": 170,
     "metadata": {},
     "output_type": "execute_result"
    }
   ],
   "source": [
    "books[books['book_author'].isnull()]"
   ]
  },
  {
   "cell_type": "markdown",
   "id": "e45163a1",
   "metadata": {},
   "source": [
    "Quick google search shows that the author of this book is Larissa Anne Downes"
   ]
  },
  {
   "cell_type": "code",
   "execution_count": 175,
   "id": "41ab65f0",
   "metadata": {},
   "outputs": [],
   "source": [
    "books.loc[187689, 'book_author'] = 'Larissa Anne Downes'"
   ]
  },
  {
   "cell_type": "markdown",
   "id": "c772d266",
   "metadata": {},
   "source": [
    "### book_publisher\n",
    "- there are two null values"
   ]
  },
  {
   "cell_type": "code",
   "execution_count": 184,
   "id": "f454cfe2",
   "metadata": {},
   "outputs": [
    {
     "data": {
      "text/html": [
       "<div>\n",
       "<style scoped>\n",
       "    .dataframe tbody tr th:only-of-type {\n",
       "        vertical-align: middle;\n",
       "    }\n",
       "\n",
       "    .dataframe tbody tr th {\n",
       "        vertical-align: top;\n",
       "    }\n",
       "\n",
       "    .dataframe thead th {\n",
       "        text-align: right;\n",
       "    }\n",
       "</style>\n",
       "<table border=\"1\" class=\"dataframe\">\n",
       "  <thead>\n",
       "    <tr style=\"text-align: right;\">\n",
       "      <th></th>\n",
       "      <th>isbn</th>\n",
       "      <th>book_title</th>\n",
       "      <th>book_author</th>\n",
       "      <th>year_of_publication</th>\n",
       "      <th>publisher</th>\n",
       "    </tr>\n",
       "  </thead>\n",
       "  <tbody>\n",
       "    <tr>\n",
       "      <th>128890</th>\n",
       "      <td>193169656X</td>\n",
       "      <td>Tyrant Moon</td>\n",
       "      <td>Elaine Corvidae</td>\n",
       "      <td>2002</td>\n",
       "      <td>NaN</td>\n",
       "    </tr>\n",
       "    <tr>\n",
       "      <th>129037</th>\n",
       "      <td>1931696993</td>\n",
       "      <td>Finders Keepers</td>\n",
       "      <td>Linnea Sinclair</td>\n",
       "      <td>2001</td>\n",
       "      <td>NaN</td>\n",
       "    </tr>\n",
       "  </tbody>\n",
       "</table>\n",
       "</div>"
      ],
      "text/plain": [
       "              isbn       book_title      book_author  year_of_publication  \\\n",
       "128890  193169656X  Tyrant Moon      Elaine Corvidae  2002                  \n",
       "129037  1931696993  Finders Keepers  Linnea Sinclair  2001                  \n",
       "\n",
       "       publisher  \n",
       "128890  NaN       \n",
       "129037  NaN       "
      ]
     },
     "execution_count": 184,
     "metadata": {},
     "output_type": "execute_result"
    }
   ],
   "source": [
    "books[books['publisher'].isnull()]"
   ]
  },
  {
   "cell_type": "markdown",
   "id": "89c5e7f6",
   "metadata": {},
   "source": [
    "Another quick google search shows that Tyrant Moon was published by Mundania Press and Finders Keepers was published by Bantam."
   ]
  },
  {
   "cell_type": "code",
   "execution_count": 193,
   "id": "820d02e5",
   "metadata": {},
   "outputs": [],
   "source": [
    "books.loc[128890, 'publisher'] = 'Mundania Press'\n",
    "books.loc[129037, 'publisher'] = 'Bantam'"
   ]
  },
  {
   "cell_type": "code",
   "execution_count": 194,
   "id": "6433e4e0",
   "metadata": {},
   "outputs": [
    {
     "name": "stdout",
     "output_type": "stream",
     "text": [
      "<class 'pandas.core.frame.DataFrame'>\n",
      "RangeIndex: 271360 entries, 0 to 271359\n",
      "Data columns (total 5 columns):\n",
      " #   Column               Non-Null Count   Dtype \n",
      "---  ------               --------------   ----- \n",
      " 0   isbn                 271360 non-null  object\n",
      " 1   book_title           271360 non-null  object\n",
      " 2   book_author          271360 non-null  object\n",
      " 3   year_of_publication  271360 non-null  int32 \n",
      " 4   publisher            271360 non-null  object\n",
      "dtypes: int32(1), object(4)\n",
      "memory usage: 9.3+ MB\n"
     ]
    }
   ],
   "source": [
    "books.info()"
   ]
  },
  {
   "cell_type": "markdown",
   "id": "91a66176",
   "metadata": {},
   "source": [
    "## Users"
   ]
  },
  {
   "cell_type": "code",
   "execution_count": 210,
   "id": "35ec69e4",
   "metadata": {},
   "outputs": [
    {
     "name": "stdout",
     "output_type": "stream",
     "text": [
      "<class 'pandas.core.frame.DataFrame'>\n",
      "RangeIndex: 278858 entries, 0 to 278857\n",
      "Data columns (total 3 columns):\n",
      " #   Column    Non-Null Count   Dtype  \n",
      "---  ------    --------------   -----  \n",
      " 0   user_id   278858 non-null  int64  \n",
      " 1   location  278858 non-null  object \n",
      " 2   age       168096 non-null  float64\n",
      "dtypes: float64(1), int64(1), object(1)\n",
      "memory usage: 6.4+ MB\n"
     ]
    }
   ],
   "source": [
    "users.info()"
   ]
  },
  {
   "cell_type": "code",
   "execution_count": 211,
   "id": "e1a39793",
   "metadata": {},
   "outputs": [
    {
     "data": {
      "text/plain": [
       "278858"
      ]
     },
     "execution_count": 211,
     "metadata": {},
     "output_type": "execute_result"
    }
   ],
   "source": [
    "# this column seems fine\n",
    "users['user_id'].nunique()"
   ]
  },
  {
   "cell_type": "code",
   "execution_count": 216,
   "id": "28d79bda",
   "metadata": {},
   "outputs": [
    {
     "data": {
      "text/plain": [
       "0    nyc, new york, usa                \n",
       "1    stockton, california, usa         \n",
       "2    moscow, yukon territory, russia   \n",
       "3    porto, v.n.gaia, portugal         \n",
       "4    farnborough, hants, united kingdom\n",
       "Name: location, dtype: object"
      ]
     },
     "execution_count": 216,
     "metadata": {},
     "output_type": "execute_result"
    }
   ],
   "source": [
    "# we will leave 'location' column untouched for now\n",
    "users['location'].head()"
   ]
  },
  {
   "cell_type": "code",
   "execution_count": 219,
   "id": "78bb566e",
   "metadata": {},
   "outputs": [
    {
     "data": {
      "text/plain": [
       "[nan,\n",
       " 0.0,\n",
       " 1.0,\n",
       " 2.0,\n",
       " 3.0,\n",
       " 4.0,\n",
       " 5.0,\n",
       " 6.0,\n",
       " 7.0,\n",
       " 8.0,\n",
       " 9.0,\n",
       " 10.0,\n",
       " 11.0,\n",
       " 12.0,\n",
       " 13.0,\n",
       " 14.0,\n",
       " 15.0,\n",
       " 16.0,\n",
       " 17.0,\n",
       " 18.0,\n",
       " 19.0,\n",
       " 20.0,\n",
       " 21.0,\n",
       " 22.0,\n",
       " 23.0,\n",
       " 24.0,\n",
       " 25.0,\n",
       " 26.0,\n",
       " 27.0,\n",
       " 28.0,\n",
       " 29.0,\n",
       " 30.0,\n",
       " 31.0,\n",
       " 32.0,\n",
       " 33.0,\n",
       " 34.0,\n",
       " 35.0,\n",
       " 36.0,\n",
       " 37.0,\n",
       " 38.0,\n",
       " 39.0,\n",
       " 40.0,\n",
       " 41.0,\n",
       " 42.0,\n",
       " 43.0,\n",
       " 44.0,\n",
       " 45.0,\n",
       " 46.0,\n",
       " 47.0,\n",
       " 48.0,\n",
       " 49.0,\n",
       " 50.0,\n",
       " 51.0,\n",
       " 52.0,\n",
       " 53.0,\n",
       " 54.0,\n",
       " 55.0,\n",
       " 56.0,\n",
       " 57.0,\n",
       " 58.0,\n",
       " 59.0,\n",
       " 60.0,\n",
       " 61.0,\n",
       " 62.0,\n",
       " 63.0,\n",
       " 64.0,\n",
       " 65.0,\n",
       " 66.0,\n",
       " 67.0,\n",
       " 68.0,\n",
       " 69.0,\n",
       " 70.0,\n",
       " 71.0,\n",
       " 72.0,\n",
       " 73.0,\n",
       " 74.0,\n",
       " 75.0,\n",
       " 76.0,\n",
       " 77.0,\n",
       " 78.0,\n",
       " 79.0,\n",
       " 80.0,\n",
       " 81.0,\n",
       " 82.0,\n",
       " 83.0,\n",
       " 84.0,\n",
       " 85.0,\n",
       " 86.0,\n",
       " 87.0,\n",
       " 88.0,\n",
       " 89.0,\n",
       " 90.0,\n",
       " 91.0,\n",
       " 92.0,\n",
       " 93.0,\n",
       " 94.0,\n",
       " 95.0,\n",
       " 96.0,\n",
       " 97.0,\n",
       " 98.0,\n",
       " 99.0,\n",
       " 100.0,\n",
       " 101.0,\n",
       " 102.0,\n",
       " 103.0,\n",
       " 104.0,\n",
       " 105.0,\n",
       " 106.0,\n",
       " 107.0,\n",
       " 108.0,\n",
       " 109.0,\n",
       " 110.0,\n",
       " 111.0,\n",
       " 113.0,\n",
       " 114.0,\n",
       " 115.0,\n",
       " 116.0,\n",
       " 118.0,\n",
       " 119.0,\n",
       " 123.0,\n",
       " 124.0,\n",
       " 127.0,\n",
       " 128.0,\n",
       " 132.0,\n",
       " 133.0,\n",
       " 136.0,\n",
       " 137.0,\n",
       " 138.0,\n",
       " 140.0,\n",
       " 141.0,\n",
       " 143.0,\n",
       " 146.0,\n",
       " 147.0,\n",
       " 148.0,\n",
       " 151.0,\n",
       " 152.0,\n",
       " 156.0,\n",
       " 157.0,\n",
       " 159.0,\n",
       " 162.0,\n",
       " 168.0,\n",
       " 172.0,\n",
       " 175.0,\n",
       " 183.0,\n",
       " 186.0,\n",
       " 189.0,\n",
       " 199.0,\n",
       " 200.0,\n",
       " 201.0,\n",
       " 204.0,\n",
       " 207.0,\n",
       " 208.0,\n",
       " 209.0,\n",
       " 210.0,\n",
       " 212.0,\n",
       " 219.0,\n",
       " 220.0,\n",
       " 223.0,\n",
       " 226.0,\n",
       " 228.0,\n",
       " 229.0,\n",
       " 230.0,\n",
       " 231.0,\n",
       " 237.0,\n",
       " 239.0,\n",
       " 244.0]"
      ]
     },
     "execution_count": 219,
     "metadata": {},
     "output_type": "execute_result"
    }
   ],
   "source": [
    "# lets peek at the age values\n",
    "sorted(users['age'].unique())"
   ]
  },
  {
   "cell_type": "markdown",
   "id": "bfc3db2d",
   "metadata": {},
   "source": [
    "NaN, 5 < age < 90 don't seem to make sense. Just like what we did above with year_of_publication, we'll set those values to NaN then fill it with the mean age. "
   ]
  },
  {
   "cell_type": "code",
   "execution_count": 222,
   "id": "48fc153a",
   "metadata": {},
   "outputs": [],
   "source": [
    "# set these particular age values to NaN\n",
    "users.loc[(users['age'] < 5) | (users['age'] > 90), 'age'] = np.NAN"
   ]
  },
  {
   "cell_type": "code",
   "execution_count": 224,
   "id": "08484088",
   "metadata": {},
   "outputs": [],
   "source": [
    "# find the mean of the age\n",
    "age_mean =  round(users['age'].mean())"
   ]
  },
  {
   "cell_type": "code",
   "execution_count": 225,
   "id": "6acc7c22",
   "metadata": {},
   "outputs": [],
   "source": [
    "# set the NaN values to mean age\n",
    "users['age'] = users['age'].fillna(age_mean)"
   ]
  },
  {
   "cell_type": "code",
   "execution_count": 227,
   "id": "993d5294",
   "metadata": {},
   "outputs": [
    {
     "name": "stdout",
     "output_type": "stream",
     "text": [
      "[5.0, 6.0, 7.0, 8.0, 9.0, 10.0, 11.0, 12.0, 13.0, 14.0, 15.0, 16.0, 17.0, 18.0, 19.0, 20.0, 21.0, 22.0, 23.0, 24.0, 25.0, 26.0, 27.0, 28.0, 29.0, 30.0, 31.0, 32.0, 33.0, 34.0, 35.0, 36.0, 37.0, 38.0, 39.0, 40.0, 41.0, 42.0, 43.0, 44.0, 45.0, 46.0, 47.0, 48.0, 49.0, 50.0, 51.0, 52.0, 53.0, 54.0, 55.0, 56.0, 57.0, 58.0, 59.0, 60.0, 61.0, 62.0, 63.0, 64.0, 65.0, 66.0, 67.0, 68.0, 69.0, 70.0, 71.0, 72.0, 73.0, 74.0, 75.0, 76.0, 77.0, 78.0, 79.0, 80.0, 81.0, 82.0, 83.0, 84.0, 85.0, 86.0, 87.0, 88.0, 89.0, 90.0]\n"
     ]
    }
   ],
   "source": [
    "# here's a sorted view now of the ages\n",
    "print(sorted(users['age'].unique()))"
   ]
  },
  {
   "cell_type": "code",
   "execution_count": 228,
   "id": "7a3b7c5f",
   "metadata": {},
   "outputs": [],
   "source": [
    "# set the age column type to be int\n",
    "users['age'] = users['age'].astype(int)"
   ]
  },
  {
   "cell_type": "markdown",
   "id": "2221d1fa",
   "metadata": {},
   "source": [
    "## Ratings"
   ]
  },
  {
   "cell_type": "code",
   "execution_count": 230,
   "id": "3109f071",
   "metadata": {},
   "outputs": [
    {
     "name": "stdout",
     "output_type": "stream",
     "text": [
      "<class 'pandas.core.frame.DataFrame'>\n",
      "RangeIndex: 1149780 entries, 0 to 1149779\n",
      "Data columns (total 3 columns):\n",
      " #   Column       Non-Null Count    Dtype \n",
      "---  ------       --------------    ----- \n",
      " 0   user_id      1149780 non-null  int64 \n",
      " 1   isbn         1149780 non-null  object\n",
      " 2   book_rating  1149780 non-null  int64 \n",
      "dtypes: int64(2), object(1)\n",
      "memory usage: 26.3+ MB\n"
     ]
    }
   ],
   "source": [
    "ratings.info()"
   ]
  },
  {
   "cell_type": "code",
   "execution_count": 231,
   "id": "68bf1844",
   "metadata": {},
   "outputs": [
    {
     "data": {
      "text/html": [
       "<div>\n",
       "<style scoped>\n",
       "    .dataframe tbody tr th:only-of-type {\n",
       "        vertical-align: middle;\n",
       "    }\n",
       "\n",
       "    .dataframe tbody tr th {\n",
       "        vertical-align: top;\n",
       "    }\n",
       "\n",
       "    .dataframe thead th {\n",
       "        text-align: right;\n",
       "    }\n",
       "</style>\n",
       "<table border=\"1\" class=\"dataframe\">\n",
       "  <thead>\n",
       "    <tr style=\"text-align: right;\">\n",
       "      <th></th>\n",
       "      <th>user_id</th>\n",
       "      <th>isbn</th>\n",
       "      <th>book_rating</th>\n",
       "    </tr>\n",
       "  </thead>\n",
       "  <tbody>\n",
       "    <tr>\n",
       "      <th>0</th>\n",
       "      <td>276725</td>\n",
       "      <td>034545104X</td>\n",
       "      <td>0</td>\n",
       "    </tr>\n",
       "    <tr>\n",
       "      <th>1</th>\n",
       "      <td>276726</td>\n",
       "      <td>0155061224</td>\n",
       "      <td>5</td>\n",
       "    </tr>\n",
       "    <tr>\n",
       "      <th>2</th>\n",
       "      <td>276727</td>\n",
       "      <td>0446520802</td>\n",
       "      <td>0</td>\n",
       "    </tr>\n",
       "    <tr>\n",
       "      <th>3</th>\n",
       "      <td>276729</td>\n",
       "      <td>052165615X</td>\n",
       "      <td>3</td>\n",
       "    </tr>\n",
       "    <tr>\n",
       "      <th>4</th>\n",
       "      <td>276729</td>\n",
       "      <td>0521795028</td>\n",
       "      <td>6</td>\n",
       "    </tr>\n",
       "  </tbody>\n",
       "</table>\n",
       "</div>"
      ],
      "text/plain": [
       "   user_id        isbn  book_rating\n",
       "0  276725   034545104X  0          \n",
       "1  276726   0155061224  5          \n",
       "2  276727   0446520802  0          \n",
       "3  276729   052165615X  3          \n",
       "4  276729   0521795028  6          "
      ]
     },
     "execution_count": 231,
     "metadata": {},
     "output_type": "execute_result"
    }
   ],
   "source": [
    "ratings.head()"
   ]
  },
  {
   "cell_type": "markdown",
   "id": "06d88b8a",
   "metadata": {},
   "source": [
    "### Ratings Visualized"
   ]
  },
  {
   "cell_type": "code",
   "execution_count": 253,
   "id": "5a629851",
   "metadata": {},
   "outputs": [
    {
     "data": {
      "image/png": "[encoded data removed]",
      "text/plain": [
       "<Figure size 720x504 with 1 Axes>"
      ]
     },
     "metadata": {},
     "output_type": "display_data"
    }
   ],
   "source": [
    "sns.set_theme(style=\"darkgrid\")\n",
    "plt.figure(figsize=(10, 7))\n",
    "sns.countplot(x='book_rating', data=ratings).set(title='Count of each Book Rating');"
   ]
  },
  {
   "cell_type": "markdown",
   "id": "cc195d1e",
   "metadata": {},
   "source": [
    "The dataset contains both explicit ratings: entered by user and implicit ratings: not entered by user, default to 0"
   ]
  },
  {
   "cell_type": "markdown",
   "id": "42c4c4b8",
   "metadata": {},
   "source": [
    "### Possible issue with books existing in both ratings and books table\n",
    "- The books in the ratings table should also exist in the books table\n",
    "    - A discrepancy means that some users rated books that do not appear or exist in our books table"
   ]
  },
  {
   "cell_type": "code",
   "execution_count": 332,
   "id": "ce90e402",
   "metadata": {},
   "outputs": [
    {
     "data": {
      "text/plain": [
       "(1149780, 3)"
      ]
     },
     "execution_count": 332,
     "metadata": {},
     "output_type": "execute_result"
    }
   ],
   "source": [
    "# the shape of our ratings table\n",
    "ratings.shape"
   ]
  },
  {
   "cell_type": "code",
   "execution_count": 328,
   "id": "79ede7db",
   "metadata": {},
   "outputs": [
    {
     "data": {
      "text/plain": [
       "(1031136, 3)"
      ]
     },
     "execution_count": 328,
     "metadata": {},
     "output_type": "execute_result"
    }
   ],
   "source": [
    "# A check to see if all/which books rated in ratings table \n",
    "# also exist in books table \n",
    "ratings2 = ratings[ratings['isbn'].isin(books['isbn'])]\n",
    "ratings2.shape"
   ]
  },
  {
   "cell_type": "markdown",
   "id": "2aee4f7d",
   "metadata": {},
   "source": [
    "As you can see, the unique isbn's in books is actually a subset of the isbn's in ratings. This should give us a hint or let us know how we should proceed when joining the tables."
   ]
  },
  {
   "cell_type": "markdown",
   "id": "3a92e3fd",
   "metadata": {},
   "source": [
    "Now from that subset, lets check to see if those all those users also appear in our users table."
   ]
  },
  {
   "cell_type": "code",
   "execution_count": 331,
   "id": "b6630b88",
   "metadata": {},
   "outputs": [
    {
     "data": {
      "text/plain": [
       "(1031136, 3)"
      ]
     },
     "execution_count": 331,
     "metadata": {},
     "output_type": "execute_result"
    }
   ],
   "source": [
    "# Lets see if all users that made ratings are a part of the users table\n",
    "ratings3 = ratings2[ratings2['user_id'].isin(users['user_id'])]\n",
    "ratings3.shape"
   ]
  },
  {
   "cell_type": "markdown",
   "id": "6d978a4c",
   "metadata": {},
   "source": [
    "Conclusion: There's no difference there between the user_id's in user and ratings table."
   ]
  },
  {
   "cell_type": "markdown",
   "id": "4752976f",
   "metadata": {},
   "source": [
    "### Merging our three datasets\n",
    "We want to combine our tables in this type of manner:\n",
    "- Users INNER JOIN (Books LEFT JOIN Ratings)"
   ]
  },
  {
   "cell_type": "code",
   "execution_count": 336,
   "id": "3b9d99ce",
   "metadata": {},
   "outputs": [],
   "source": [
    "# similar to Books LEFT JOIN Ratings USING isbn\n",
    "merged_df = books.merge(ratings, on='isbn', how='left')"
   ]
  },
  {
   "cell_type": "code",
   "execution_count": 338,
   "id": "0582fd3e",
   "metadata": {},
   "outputs": [],
   "source": [
    "# now to merge the above dataframe to our users dataframe\n",
    "# similar to Users JOIN merged_df USING user_id\n",
    "df = merged_df.merge(users, on='user_id', how='inner')"
   ]
  },
  {
   "cell_type": "code",
   "execution_count": 340,
   "id": "d37af1f8",
   "metadata": {},
   "outputs": [
    {
     "data": {
      "text/plain": [
       "(1031136, 9)"
      ]
     },
     "execution_count": 340,
     "metadata": {},
     "output_type": "execute_result"
    }
   ],
   "source": [
    "# dimensions of our combined datasets show it is the same as our check above\n",
    "df.shape"
   ]
  },
  {
   "cell_type": "code",
   "execution_count": 342,
   "id": "0f0e8657",
   "metadata": {},
   "outputs": [
    {
     "data": {
      "text/html": [
       "<div>\n",
       "<style scoped>\n",
       "    .dataframe tbody tr th:only-of-type {\n",
       "        vertical-align: middle;\n",
       "    }\n",
       "\n",
       "    .dataframe tbody tr th {\n",
       "        vertical-align: top;\n",
       "    }\n",
       "\n",
       "    .dataframe thead th {\n",
       "        text-align: right;\n",
       "    }\n",
       "</style>\n",
       "<table border=\"1\" class=\"dataframe\">\n",
       "  <thead>\n",
       "    <tr style=\"text-align: right;\">\n",
       "      <th></th>\n",
       "      <th>isbn</th>\n",
       "      <th>book_title</th>\n",
       "      <th>book_author</th>\n",
       "      <th>year_of_publication</th>\n",
       "      <th>publisher</th>\n",
       "      <th>user_id</th>\n",
       "      <th>book_rating</th>\n",
       "      <th>location</th>\n",
       "      <th>age</th>\n",
       "    </tr>\n",
       "  </thead>\n",
       "  <tbody>\n",
       "    <tr>\n",
       "      <th>0</th>\n",
       "      <td>0195153448</td>\n",
       "      <td>Classical Mythology</td>\n",
       "      <td>Mark P. O. Morford</td>\n",
       "      <td>2002</td>\n",
       "      <td>Oxford University Press</td>\n",
       "      <td>2.0</td>\n",
       "      <td>0.0</td>\n",
       "      <td>stockton, california, usa</td>\n",
       "      <td>18</td>\n",
       "    </tr>\n",
       "    <tr>\n",
       "      <th>1</th>\n",
       "      <td>0002005018</td>\n",
       "      <td>Clara Callan</td>\n",
       "      <td>Richard Bruce Wright</td>\n",
       "      <td>2001</td>\n",
       "      <td>HarperFlamingo Canada</td>\n",
       "      <td>8.0</td>\n",
       "      <td>5.0</td>\n",
       "      <td>timmins, ontario, canada</td>\n",
       "      <td>35</td>\n",
       "    </tr>\n",
       "    <tr>\n",
       "      <th>2</th>\n",
       "      <td>0060973129</td>\n",
       "      <td>Decision in Normandy</td>\n",
       "      <td>Carlo D'Este</td>\n",
       "      <td>1991</td>\n",
       "      <td>HarperPerennial</td>\n",
       "      <td>8.0</td>\n",
       "      <td>0.0</td>\n",
       "      <td>timmins, ontario, canada</td>\n",
       "      <td>35</td>\n",
       "    </tr>\n",
       "    <tr>\n",
       "      <th>3</th>\n",
       "      <td>0374157065</td>\n",
       "      <td>Flu: The Story of the Great Influenza Pandemic of 1918 and the Search for the Virus That Caused It</td>\n",
       "      <td>Gina Bari Kolata</td>\n",
       "      <td>1999</td>\n",
       "      <td>Farrar Straus Giroux</td>\n",
       "      <td>8.0</td>\n",
       "      <td>0.0</td>\n",
       "      <td>timmins, ontario, canada</td>\n",
       "      <td>35</td>\n",
       "    </tr>\n",
       "    <tr>\n",
       "      <th>4</th>\n",
       "      <td>0393045218</td>\n",
       "      <td>The Mummies of Urumchi</td>\n",
       "      <td>E. J. W. Barber</td>\n",
       "      <td>1999</td>\n",
       "      <td>W. W. Norton &amp;amp; Company</td>\n",
       "      <td>8.0</td>\n",
       "      <td>0.0</td>\n",
       "      <td>timmins, ontario, canada</td>\n",
       "      <td>35</td>\n",
       "    </tr>\n",
       "    <tr>\n",
       "      <th>5</th>\n",
       "      <td>0399135782</td>\n",
       "      <td>The Kitchen God's Wife</td>\n",
       "      <td>Amy Tan</td>\n",
       "      <td>1991</td>\n",
       "      <td>Putnam Pub Group</td>\n",
       "      <td>8.0</td>\n",
       "      <td>0.0</td>\n",
       "      <td>timmins, ontario, canada</td>\n",
       "      <td>35</td>\n",
       "    </tr>\n",
       "    <tr>\n",
       "      <th>6</th>\n",
       "      <td>0425176428</td>\n",
       "      <td>What If?: The World's Foremost Military Historians Imagine What Might Have Been</td>\n",
       "      <td>Robert Cowley</td>\n",
       "      <td>2000</td>\n",
       "      <td>Berkley Publishing Group</td>\n",
       "      <td>8.0</td>\n",
       "      <td>0.0</td>\n",
       "      <td>timmins, ontario, canada</td>\n",
       "      <td>35</td>\n",
       "    </tr>\n",
       "    <tr>\n",
       "      <th>7</th>\n",
       "      <td>0671870432</td>\n",
       "      <td>PLEADING GUILTY</td>\n",
       "      <td>Scott Turow</td>\n",
       "      <td>1993</td>\n",
       "      <td>Audioworks</td>\n",
       "      <td>8.0</td>\n",
       "      <td>0.0</td>\n",
       "      <td>timmins, ontario, canada</td>\n",
       "      <td>35</td>\n",
       "    </tr>\n",
       "    <tr>\n",
       "      <th>8</th>\n",
       "      <td>0679425608</td>\n",
       "      <td>Under the Black Flag: The Romance and the Reality of Life Among the Pirates</td>\n",
       "      <td>David Cordingly</td>\n",
       "      <td>1996</td>\n",
       "      <td>Random House</td>\n",
       "      <td>8.0</td>\n",
       "      <td>0.0</td>\n",
       "      <td>timmins, ontario, canada</td>\n",
       "      <td>35</td>\n",
       "    </tr>\n",
       "    <tr>\n",
       "      <th>9</th>\n",
       "      <td>074322678X</td>\n",
       "      <td>Where You'll Find Me: And Other Stories</td>\n",
       "      <td>Ann Beattie</td>\n",
       "      <td>2002</td>\n",
       "      <td>Scribner</td>\n",
       "      <td>8.0</td>\n",
       "      <td>5.0</td>\n",
       "      <td>timmins, ontario, canada</td>\n",
       "      <td>35</td>\n",
       "    </tr>\n",
       "  </tbody>\n",
       "</table>\n",
       "</div>"
      ],
      "text/plain": [
       "         isbn  \\\n",
       "0  0195153448   \n",
       "1  0002005018   \n",
       "2  0060973129   \n",
       "3  0374157065   \n",
       "4  0393045218   \n",
       "5  0399135782   \n",
       "6  0425176428   \n",
       "7  0671870432   \n",
       "8  0679425608   \n",
       "9  074322678X   \n",
       "\n",
       "                                                                                           book_title  \\\n",
       "0  Classical Mythology                                                                                  \n",
       "1  Clara Callan                                                                                         \n",
       "2  Decision in Normandy                                                                                 \n",
       "3  Flu: The Story of the Great Influenza Pandemic of 1918 and the Search for the Virus That Caused It   \n",
       "4  The Mummies of Urumchi                                                                               \n",
       "5  The Kitchen God's Wife                                                                               \n",
       "6  What If?: The World's Foremost Military Historians Imagine What Might Have Been                      \n",
       "7  PLEADING GUILTY                                                                                      \n",
       "8  Under the Black Flag: The Romance and the Reality of Life Among the Pirates                          \n",
       "9  Where You'll Find Me: And Other Stories                                                              \n",
       "\n",
       "            book_author  year_of_publication                   publisher  \\\n",
       "0  Mark P. O. Morford    2002                 Oxford University Press      \n",
       "1  Richard Bruce Wright  2001                 HarperFlamingo Canada        \n",
       "2  Carlo D'Este          1991                 HarperPerennial              \n",
       "3  Gina Bari Kolata      1999                 Farrar Straus Giroux         \n",
       "4  E. J. W. Barber       1999                 W. W. Norton &amp; Company   \n",
       "5  Amy Tan               1991                 Putnam Pub Group             \n",
       "6  Robert Cowley         2000                 Berkley Publishing Group     \n",
       "7  Scott Turow           1993                 Audioworks                   \n",
       "8  David Cordingly       1996                 Random House                 \n",
       "9  Ann Beattie           2002                 Scribner                     \n",
       "\n",
       "   user_id  book_rating                   location  age  \n",
       "0  2.0      0.0          stockton, california, usa  18   \n",
       "1  8.0      5.0          timmins, ontario, canada   35   \n",
       "2  8.0      0.0          timmins, ontario, canada   35   \n",
       "3  8.0      0.0          timmins, ontario, canada   35   \n",
       "4  8.0      0.0          timmins, ontario, canada   35   \n",
       "5  8.0      0.0          timmins, ontario, canada   35   \n",
       "6  8.0      0.0          timmins, ontario, canada   35   \n",
       "7  8.0      0.0          timmins, ontario, canada   35   \n",
       "8  8.0      0.0          timmins, ontario, canada   35   \n",
       "9  8.0      5.0          timmins, ontario, canada   35   "
      ]
     },
     "execution_count": 342,
     "metadata": {},
     "output_type": "execute_result"
    }
   ],
   "source": [
    "df.head(10)"
   ]
  },
  {
   "cell_type": "markdown",
   "id": "346045ca",
   "metadata": {},
   "source": [
    "## Data backup and CSV export"
   ]
  },
  {
   "cell_type": "code",
   "execution_count": 356,
   "id": "36c20711",
   "metadata": {},
   "outputs": [],
   "source": [
    "books.to_csv('books.csv', index = False)"
   ]
  },
  {
   "cell_type": "code",
   "execution_count": 357,
   "id": "c6298413",
   "metadata": {},
   "outputs": [],
   "source": [
    "users.to_csv('users.csv', index = False)"
   ]
  },
  {
   "cell_type": "code",
   "execution_count": 358,
   "id": "8c100f03",
   "metadata": {},
   "outputs": [],
   "source": [
    "ratings.to_csv('ratings.csv', index = False)"
   ]
  },
  {
   "cell_type": "code",
   "execution_count": 359,
   "id": "6198a125",
   "metadata": {},
   "outputs": [],
   "source": [
    "df.to_csv('bookCrossingDf.csv', index = False)"
   ]
  },
  {
   "cell_type": "markdown",
   "id": "672b3a0d",
   "metadata": {},
   "source": [
    "### Now lets deal with the implicit book_ratings\n",
    "- We can create a new dataframe from our merged dataframe by filtering out all book_ratings of 0"
   ]
  },
  {
   "cell_type": "code",
   "execution_count": 382,
   "id": "45b6a1c2",
   "metadata": {},
   "outputs": [],
   "source": [
    "dfe = df[df['book_rating'] != 0]"
   ]
  },
  {
   "cell_type": "code",
   "execution_count": 383,
   "id": "e7f0194c",
   "metadata": {},
   "outputs": [
    {
     "data": {
      "text/plain": [
       "(383842, 9)"
      ]
     },
     "execution_count": 383,
     "metadata": {},
     "output_type": "execute_result"
    }
   ],
   "source": [
    "dfe.shape"
   ]
  },
  {
   "cell_type": "code",
   "execution_count": 435,
   "id": "9bb14421",
   "metadata": {
    "scrolled": false
   },
   "outputs": [
    {
     "data": {
      "image/png": "[encoded data removed]",
      "text/plain": [
       "<Figure size 720x504 with 1 Axes>"
      ]
     },
     "metadata": {},
     "output_type": "display_data"
    }
   ],
   "source": [
    "sns.set_theme(style=\"darkgrid\")\n",
    "plt.figure(figsize=(10, 7))\n",
    "sns.countplot(x='book_rating', data=dfe).set(title='Count of each Book Rating (explicit only)');"
   ]
  },
  {
   "cell_type": "markdown",
   "id": "7cc2b5e6",
   "metadata": {},
   "source": [
    "### Filter in user_id that contribute to statistical significance\n",
    "- Some users have only rated one book\n",
    "- We can filter out those that do not really contribute to statistical significance\n",
    "- Keep users who have rated more than 100 books"
   ]
  },
  {
   "cell_type": "markdown",
   "id": "de544113",
   "metadata": {},
   "source": [
    "#### For user_id"
   ]
  },
  {
   "cell_type": "code",
   "execution_count": 396,
   "id": "fd59eb70",
   "metadata": {},
   "outputs": [],
   "source": [
    "# for each user_id, count how many times they have rated a book\n",
    "user_id_counts = dfe['user_id'].value_counts()"
   ]
  },
  {
   "cell_type": "code",
   "execution_count": 398,
   "id": "f22394e3",
   "metadata": {},
   "outputs": [
    {
     "data": {
      "text/plain": [
       "11676.0     True \n",
       "98391.0     True \n",
       "189835.0    True \n",
       "153662.0    True \n",
       "23902.0     True \n",
       "            ...  \n",
       "211082.0    False\n",
       "276229.0    False\n",
       "54614.0     False\n",
       "239561.0    False\n",
       "259679.0    False\n",
       "Name: user_id, Length: 68091, dtype: bool"
      ]
     },
     "execution_count": 398,
     "metadata": {},
     "output_type": "execute_result"
    }
   ],
   "source": [
    "# show True/False if they have rated more than 100 books\n",
    "user_id_counts >= 100"
   ]
  },
  {
   "cell_type": "code",
   "execution_count": 400,
   "id": "cf1bb61c",
   "metadata": {},
   "outputs": [
    {
     "data": {
      "text/plain": [
       "11676.0     6943\n",
       "98391.0     5691\n",
       "189835.0    1899\n",
       "153662.0    1845\n",
       "23902.0     1180\n",
       "            ... \n",
       "33145.0     100 \n",
       "36299.0     100 \n",
       "208406.0    100 \n",
       "95010.0     100 \n",
       "211919.0    100 \n",
       "Name: user_id, Length: 449, dtype: int64"
      ]
     },
     "execution_count": 400,
     "metadata": {},
     "output_type": "execute_result"
    }
   ],
   "source": [
    "# return only users that have read more than 100 books\n",
    "user_id_counts[user_id_counts>=100]"
   ]
  },
  {
   "cell_type": "code",
   "execution_count": 418,
   "id": "71a6fb47",
   "metadata": {},
   "outputs": [
    {
     "data": {
      "text/plain": [
       "Float64Index([ 11676.0,  98391.0, 189835.0, 153662.0,  23902.0, 235105.0,\n",
       "               76499.0, 171118.0,  16795.0, 248718.0,\n",
       "              ...\n",
       "              109901.0,  36609.0, 169682.0, 156300.0,  26544.0,  33145.0,\n",
       "               36299.0, 208406.0,  95010.0, 211919.0],\n",
       "             dtype='float64', length=449)"
      ]
     },
     "execution_count": 418,
     "metadata": {},
     "output_type": "execute_result"
    }
   ],
   "source": [
    "# get an index object consisting of the user_id of those who have rated more than 100 books\n",
    "user_id_counts[user_id_counts>=100].index"
   ]
  },
  {
   "cell_type": "code",
   "execution_count": 431,
   "id": "3f2b97bd",
   "metadata": {},
   "outputs": [],
   "source": [
    "# filter in rows with user_id who have rated more than 100 books\n",
    "df_filtered = dfe[dfe['user_id'].isin(user_id_counts[user_id_counts>=100].index)]"
   ]
  },
  {
   "cell_type": "code",
   "execution_count": 433,
   "id": "4ae3922b",
   "metadata": {},
   "outputs": [
    {
     "data": {
      "text/plain": [
       "11676.0     6943\n",
       "98391.0     5691\n",
       "189835.0    1899\n",
       "153662.0    1845\n",
       "23902.0     1180\n",
       "            ... \n",
       "36299.0     100 \n",
       "36609.0     100 \n",
       "169682.0    100 \n",
       "95010.0     100 \n",
       "208406.0    100 \n",
       "Name: user_id, Length: 449, dtype: int64"
      ]
     },
     "execution_count": 433,
     "metadata": {},
     "output_type": "execute_result"
    }
   ],
   "source": [
    "# a check to see if it worked\n",
    "df_filtered['user_id'].value_counts()"
   ]
  },
  {
   "cell_type": "code",
   "execution_count": null,
   "id": "2d32c9c9",
   "metadata": {},
   "outputs": [],
   "source": [
    "# so if you put that together, these are the combined steps\n",
    "user_id_counts = dfe['user_id'].value_counts()\n",
    "greater99 = user_id_counts[user_id_counts>=100].index\n",
    "df_filtered = dfe[dfe['user_id'].isin(greater99)]"
   ]
  },
  {
   "cell_type": "code",
   "execution_count": 434,
   "id": "9fa4f6cb",
   "metadata": {},
   "outputs": [
    {
     "data": {
      "text/html": [
       "<div>\n",
       "<style scoped>\n",
       "    .dataframe tbody tr th:only-of-type {\n",
       "        vertical-align: middle;\n",
       "    }\n",
       "\n",
       "    .dataframe tbody tr th {\n",
       "        vertical-align: top;\n",
       "    }\n",
       "\n",
       "    .dataframe thead th {\n",
       "        text-align: right;\n",
       "    }\n",
       "</style>\n",
       "<table border=\"1\" class=\"dataframe\">\n",
       "  <thead>\n",
       "    <tr style=\"text-align: right;\">\n",
       "      <th></th>\n",
       "      <th>isbn</th>\n",
       "      <th>book_title</th>\n",
       "      <th>book_author</th>\n",
       "      <th>year_of_publication</th>\n",
       "      <th>publisher</th>\n",
       "      <th>user_id</th>\n",
       "      <th>book_rating</th>\n",
       "      <th>location</th>\n",
       "      <th>age</th>\n",
       "    </tr>\n",
       "  </thead>\n",
       "  <tbody>\n",
       "    <tr>\n",
       "      <th>80</th>\n",
       "      <td>0002005018</td>\n",
       "      <td>Clara Callan</td>\n",
       "      <td>Richard Bruce Wright</td>\n",
       "      <td>2001</td>\n",
       "      <td>HarperFlamingo Canada</td>\n",
       "      <td>11676.0</td>\n",
       "      <td>8.0</td>\n",
       "      <td>n/a, n/a, n/a</td>\n",
       "      <td>35</td>\n",
       "    </tr>\n",
       "    <tr>\n",
       "      <th>81</th>\n",
       "      <td>0399135782</td>\n",
       "      <td>The Kitchen God's Wife</td>\n",
       "      <td>Amy Tan</td>\n",
       "      <td>1991</td>\n",
       "      <td>Putnam Pub Group</td>\n",
       "      <td>11676.0</td>\n",
       "      <td>9.0</td>\n",
       "      <td>n/a, n/a, n/a</td>\n",
       "      <td>35</td>\n",
       "    </tr>\n",
       "    <tr>\n",
       "      <th>82</th>\n",
       "      <td>0671870432</td>\n",
       "      <td>PLEADING GUILTY</td>\n",
       "      <td>Scott Turow</td>\n",
       "      <td>1993</td>\n",
       "      <td>Audioworks</td>\n",
       "      <td>11676.0</td>\n",
       "      <td>8.0</td>\n",
       "      <td>n/a, n/a, n/a</td>\n",
       "      <td>35</td>\n",
       "    </tr>\n",
       "    <tr>\n",
       "      <th>84</th>\n",
       "      <td>0440234743</td>\n",
       "      <td>The Testament</td>\n",
       "      <td>John Grisham</td>\n",
       "      <td>1999</td>\n",
       "      <td>Dell</td>\n",
       "      <td>11676.0</td>\n",
       "      <td>9.0</td>\n",
       "      <td>n/a, n/a, n/a</td>\n",
       "      <td>35</td>\n",
       "    </tr>\n",
       "    <tr>\n",
       "      <th>85</th>\n",
       "      <td>0452264464</td>\n",
       "      <td>Beloved (Plume Contemporary Fiction)</td>\n",
       "      <td>Toni Morrison</td>\n",
       "      <td>1994</td>\n",
       "      <td>Plume</td>\n",
       "      <td>11676.0</td>\n",
       "      <td>8.0</td>\n",
       "      <td>n/a, n/a, n/a</td>\n",
       "      <td>35</td>\n",
       "    </tr>\n",
       "    <tr>\n",
       "      <th>...</th>\n",
       "      <td>...</td>\n",
       "      <td>...</td>\n",
       "      <td>...</td>\n",
       "      <td>...</td>\n",
       "      <td>...</td>\n",
       "      <td>...</td>\n",
       "      <td>...</td>\n",
       "      <td>...</td>\n",
       "      <td>...</td>\n",
       "    </tr>\n",
       "    <tr>\n",
       "      <th>954156</th>\n",
       "      <td>0263827461</td>\n",
       "      <td>A Poor Relation (Historical Romance: Regency)</td>\n",
       "      <td>Joanna Maitland</td>\n",
       "      <td>2001</td>\n",
       "      <td>Harlequin Mills &amp;amp; Boon Ltd</td>\n",
       "      <td>163759.0</td>\n",
       "      <td>5.0</td>\n",
       "      <td>abertillery, wales, united kingdom</td>\n",
       "      <td>37</td>\n",
       "    </tr>\n",
       "    <tr>\n",
       "      <th>954157</th>\n",
       "      <td>0263816575</td>\n",
       "      <td>Mistress of Madderlea (Historical Romance: Regency)</td>\n",
       "      <td>Mary Nichols</td>\n",
       "      <td>1999</td>\n",
       "      <td>Harlequin Mills &amp;amp; Boon Ltd</td>\n",
       "      <td>163759.0</td>\n",
       "      <td>5.0</td>\n",
       "      <td>abertillery, wales, united kingdom</td>\n",
       "      <td>37</td>\n",
       "    </tr>\n",
       "    <tr>\n",
       "      <th>954158</th>\n",
       "      <td>0440222974</td>\n",
       "      <td>A Fire in Heaven</td>\n",
       "      <td>Annee Carter</td>\n",
       "      <td>1998</td>\n",
       "      <td>Dell Publishing Company</td>\n",
       "      <td>163759.0</td>\n",
       "      <td>5.0</td>\n",
       "      <td>abertillery, wales, united kingdom</td>\n",
       "      <td>37</td>\n",
       "    </tr>\n",
       "    <tr>\n",
       "      <th>954159</th>\n",
       "      <td>0373059191</td>\n",
       "      <td>Mr. Easy  (Man Of The Month) (Silhouette Desire, No 919)</td>\n",
       "      <td>Cait London</td>\n",
       "      <td>1995</td>\n",
       "      <td>Silhouette</td>\n",
       "      <td>163759.0</td>\n",
       "      <td>4.0</td>\n",
       "      <td>abertillery, wales, united kingdom</td>\n",
       "      <td>37</td>\n",
       "    </tr>\n",
       "    <tr>\n",
       "      <th>954160</th>\n",
       "      <td>0373760930</td>\n",
       "      <td>Groom Candidate  (Man Of The Month/The Tallchiefs) (Harlequin Desire, No 1093)</td>\n",
       "      <td>Cait London</td>\n",
       "      <td>1997</td>\n",
       "      <td>Silhouette</td>\n",
       "      <td>163759.0</td>\n",
       "      <td>4.0</td>\n",
       "      <td>abertillery, wales, united kingdom</td>\n",
       "      <td>37</td>\n",
       "    </tr>\n",
       "  </tbody>\n",
       "</table>\n",
       "<p>103271 rows × 9 columns</p>\n",
       "</div>"
      ],
      "text/plain": [
       "              isbn  \\\n",
       "80      0002005018   \n",
       "81      0399135782   \n",
       "82      0671870432   \n",
       "84      0440234743   \n",
       "85      0452264464   \n",
       "...            ...   \n",
       "954156  0263827461   \n",
       "954157  0263816575   \n",
       "954158  0440222974   \n",
       "954159  0373059191   \n",
       "954160  0373760930   \n",
       "\n",
       "                                                                            book_title  \\\n",
       "80      Clara Callan                                                                     \n",
       "81      The Kitchen God's Wife                                                           \n",
       "82      PLEADING GUILTY                                                                  \n",
       "84      The Testament                                                                    \n",
       "85      Beloved (Plume Contemporary Fiction)                                             \n",
       "...                                      ...                                             \n",
       "954156  A Poor Relation (Historical Romance: Regency)                                    \n",
       "954157  Mistress of Madderlea (Historical Romance: Regency)                              \n",
       "954158  A Fire in Heaven                                                                 \n",
       "954159  Mr. Easy  (Man Of The Month) (Silhouette Desire, No 919)                         \n",
       "954160  Groom Candidate  (Man Of The Month/The Tallchiefs) (Harlequin Desire, No 1093)   \n",
       "\n",
       "                 book_author  year_of_publication  \\\n",
       "80      Richard Bruce Wright  2001                  \n",
       "81      Amy Tan               1991                  \n",
       "82      Scott Turow           1993                  \n",
       "84      John Grisham          1999                  \n",
       "85      Toni Morrison         1994                  \n",
       "...               ...          ...                  \n",
       "954156  Joanna Maitland       2001                  \n",
       "954157  Mary Nichols          1999                  \n",
       "954158  Annee Carter          1998                  \n",
       "954159  Cait London           1995                  \n",
       "954160  Cait London           1997                  \n",
       "\n",
       "                             publisher   user_id  book_rating  \\\n",
       "80      HarperFlamingo Canada           11676.0   8.0           \n",
       "81      Putnam Pub Group                11676.0   9.0           \n",
       "82      Audioworks                      11676.0   8.0           \n",
       "84      Dell                            11676.0   9.0           \n",
       "85      Plume                           11676.0   8.0           \n",
       "...       ...                               ...   ...           \n",
       "954156  Harlequin Mills &amp; Boon Ltd  163759.0  5.0           \n",
       "954157  Harlequin Mills &amp; Boon Ltd  163759.0  5.0           \n",
       "954158  Dell Publishing Company         163759.0  5.0           \n",
       "954159  Silhouette                      163759.0  4.0           \n",
       "954160  Silhouette                      163759.0  4.0           \n",
       "\n",
       "                                  location  age  \n",
       "80      n/a, n/a, n/a                       35   \n",
       "81      n/a, n/a, n/a                       35   \n",
       "82      n/a, n/a, n/a                       35   \n",
       "84      n/a, n/a, n/a                       35   \n",
       "85      n/a, n/a, n/a                       35   \n",
       "...               ...                       ..   \n",
       "954156  abertillery, wales, united kingdom  37   \n",
       "954157  abertillery, wales, united kingdom  37   \n",
       "954158  abertillery, wales, united kingdom  37   \n",
       "954159  abertillery, wales, united kingdom  37   \n",
       "954160  abertillery, wales, united kingdom  37   \n",
       "\n",
       "[103271 rows x 9 columns]"
      ]
     },
     "execution_count": 434,
     "metadata": {},
     "output_type": "execute_result"
    }
   ],
   "source": [
    "df_filtered"
   ]
  },
  {
   "cell_type": "markdown",
   "id": "02ee32d2",
   "metadata": {},
   "source": [
    "### Lets save our work again"
   ]
  },
  {
   "cell_type": "code",
   "execution_count": 436,
   "id": "ce0cbde7",
   "metadata": {},
   "outputs": [],
   "source": [
    "# df_filtered.to_csv('df_filtered.csv', index = False)"
   ]
  },
  {
   "cell_type": "code",
   "execution_count": 437,
   "id": "c3246b3b",
   "metadata": {},
   "outputs": [
    {
     "name": "stdout",
     "output_type": "stream",
     "text": [
      "<class 'pandas.core.frame.DataFrame'>\n",
      "Int64Index: 103271 entries, 80 to 954160\n",
      "Data columns (total 9 columns):\n",
      " #   Column               Non-Null Count   Dtype  \n",
      "---  ------               --------------   -----  \n",
      " 0   isbn                 103271 non-null  object \n",
      " 1   book_title           103271 non-null  object \n",
      " 2   book_author          103271 non-null  object \n",
      " 3   year_of_publication  103271 non-null  int32  \n",
      " 4   publisher            103271 non-null  object \n",
      " 5   user_id              103271 non-null  float64\n",
      " 6   book_rating          103271 non-null  float64\n",
      " 7   location             103271 non-null  object \n",
      " 8   age                  103271 non-null  int32  \n",
      "dtypes: float64(2), int32(2), object(5)\n",
      "memory usage: 7.1+ MB\n"
     ]
    }
   ],
   "source": [
    "df_filtered.info()"
   ]
  },
  {
   "cell_type": "markdown",
   "id": "b67f96a0",
   "metadata": {},
   "source": [
    "## Data Modeling Preparation"
   ]
  },
  {
   "cell_type": "markdown",
   "id": "459e26df",
   "metadata": {},
   "source": [
    "### Data Duplication removal"
   ]
  },
  {
   "cell_type": "code",
   "execution_count": 482,
   "id": "d76383ef",
   "metadata": {},
   "outputs": [],
   "source": [
    "# lets drop some duplicate first: combination of book_title and user_id\n",
    "df_filtered = df_filtered.drop_duplicates(['user_id', 'book_title'])"
   ]
  },
  {
   "cell_type": "code",
   "execution_count": 484,
   "id": "9ca361fe",
   "metadata": {},
   "outputs": [
    {
     "data": {
      "text/plain": [
       "(102497, 9)"
      ]
     },
     "execution_count": 484,
     "metadata": {},
     "output_type": "execute_result"
    }
   ],
   "source": [
    "df_filtered.shape"
   ]
  },
  {
   "cell_type": "markdown",
   "id": "df6579ff",
   "metadata": {},
   "source": [
    "As you can see, the shape of the dataframe has changed, indicating that there were duplicates"
   ]
  },
  {
   "cell_type": "markdown",
   "id": "a5435ce8",
   "metadata": {},
   "source": [
    "### Create Pivot table"
   ]
  },
  {
   "cell_type": "code",
   "execution_count": 486,
   "id": "6d57af5d",
   "metadata": {},
   "outputs": [],
   "source": [
    "# convert our data to a pivot table to be used later in our algorithm\n",
    "book_rater_pivot_table = pd.pivot_table(df_filtered, values = 'book_rating', index='book_title', columns='user_id')"
   ]
  },
  {
   "cell_type": "markdown",
   "id": "7d9fef7b",
   "metadata": {},
   "source": [
    "An important observation is that a majority of the values in this ratings matrix are NaNs due to the absence of ratings. Not every user has rated every book. This also highlights the fact that the data is sparse."
   ]
  },
  {
   "cell_type": "code",
   "execution_count": 488,
   "id": "82a6d9c2",
   "metadata": {
    "scrolled": true
   },
   "outputs": [
    {
     "data": {
      "text/html": [
       "<div>\n",
       "<style scoped>\n",
       "    .dataframe tbody tr th:only-of-type {\n",
       "        vertical-align: middle;\n",
       "    }\n",
       "\n",
       "    .dataframe tbody tr th {\n",
       "        vertical-align: top;\n",
       "    }\n",
       "\n",
       "    .dataframe thead th {\n",
       "        text-align: right;\n",
       "    }\n",
       "</style>\n",
       "<table border=\"1\" class=\"dataframe\">\n",
       "  <thead>\n",
       "    <tr style=\"text-align: right;\">\n",
       "      <th>user_id</th>\n",
       "      <th>2033.0</th>\n",
       "      <th>2110.0</th>\n",
       "      <th>2276.0</th>\n",
       "      <th>4017.0</th>\n",
       "      <th>4385.0</th>\n",
       "      <th>5582.0</th>\n",
       "      <th>6242.0</th>\n",
       "      <th>6251.0</th>\n",
       "      <th>6543.0</th>\n",
       "      <th>6575.0</th>\n",
       "      <th>...</th>\n",
       "      <th>269566.0</th>\n",
       "      <th>270713.0</th>\n",
       "      <th>271448.0</th>\n",
       "      <th>271705.0</th>\n",
       "      <th>273113.0</th>\n",
       "      <th>274061.0</th>\n",
       "      <th>274301.0</th>\n",
       "      <th>275970.0</th>\n",
       "      <th>277427.0</th>\n",
       "      <th>278418.0</th>\n",
       "    </tr>\n",
       "    <tr>\n",
       "      <th>book_title</th>\n",
       "      <th></th>\n",
       "      <th></th>\n",
       "      <th></th>\n",
       "      <th></th>\n",
       "      <th></th>\n",
       "      <th></th>\n",
       "      <th></th>\n",
       "      <th></th>\n",
       "      <th></th>\n",
       "      <th></th>\n",
       "      <th></th>\n",
       "      <th></th>\n",
       "      <th></th>\n",
       "      <th></th>\n",
       "      <th></th>\n",
       "      <th></th>\n",
       "      <th></th>\n",
       "      <th></th>\n",
       "      <th></th>\n",
       "      <th></th>\n",
       "      <th></th>\n",
       "    </tr>\n",
       "  </thead>\n",
       "  <tbody>\n",
       "    <tr>\n",
       "      <th>A Light in the Storm: The Civil War Diary of Amelia Martin, Fenwick Island, Delaware, 1861 (Dear America)</th>\n",
       "      <td>NaN</td>\n",
       "      <td>NaN</td>\n",
       "      <td>NaN</td>\n",
       "      <td>NaN</td>\n",
       "      <td>NaN</td>\n",
       "      <td>NaN</td>\n",
       "      <td>NaN</td>\n",
       "      <td>NaN</td>\n",
       "      <td>NaN</td>\n",
       "      <td>NaN</td>\n",
       "      <td>...</td>\n",
       "      <td>NaN</td>\n",
       "      <td>NaN</td>\n",
       "      <td>NaN</td>\n",
       "      <td>NaN</td>\n",
       "      <td>NaN</td>\n",
       "      <td>NaN</td>\n",
       "      <td>NaN</td>\n",
       "      <td>NaN</td>\n",
       "      <td>NaN</td>\n",
       "      <td>NaN</td>\n",
       "    </tr>\n",
       "    <tr>\n",
       "      <th>Dark Justice</th>\n",
       "      <td>NaN</td>\n",
       "      <td>NaN</td>\n",
       "      <td>NaN</td>\n",
       "      <td>NaN</td>\n",
       "      <td>NaN</td>\n",
       "      <td>NaN</td>\n",
       "      <td>NaN</td>\n",
       "      <td>NaN</td>\n",
       "      <td>NaN</td>\n",
       "      <td>NaN</td>\n",
       "      <td>...</td>\n",
       "      <td>NaN</td>\n",
       "      <td>NaN</td>\n",
       "      <td>NaN</td>\n",
       "      <td>NaN</td>\n",
       "      <td>NaN</td>\n",
       "      <td>NaN</td>\n",
       "      <td>NaN</td>\n",
       "      <td>NaN</td>\n",
       "      <td>NaN</td>\n",
       "      <td>NaN</td>\n",
       "    </tr>\n",
       "    <tr>\n",
       "      <th>Earth Prayers From around the World: 365 Prayers, Poems, and Invocations for Honoring the Earth</th>\n",
       "      <td>NaN</td>\n",
       "      <td>NaN</td>\n",
       "      <td>NaN</td>\n",
       "      <td>NaN</td>\n",
       "      <td>NaN</td>\n",
       "      <td>NaN</td>\n",
       "      <td>NaN</td>\n",
       "      <td>NaN</td>\n",
       "      <td>NaN</td>\n",
       "      <td>NaN</td>\n",
       "      <td>...</td>\n",
       "      <td>NaN</td>\n",
       "      <td>NaN</td>\n",
       "      <td>NaN</td>\n",
       "      <td>NaN</td>\n",
       "      <td>NaN</td>\n",
       "      <td>NaN</td>\n",
       "      <td>NaN</td>\n",
       "      <td>NaN</td>\n",
       "      <td>NaN</td>\n",
       "      <td>NaN</td>\n",
       "    </tr>\n",
       "    <tr>\n",
       "      <th>Final Fantasy Anthology: Official Strategy Guide (Brady Games)</th>\n",
       "      <td>NaN</td>\n",
       "      <td>NaN</td>\n",
       "      <td>NaN</td>\n",
       "      <td>NaN</td>\n",
       "      <td>NaN</td>\n",
       "      <td>NaN</td>\n",
       "      <td>NaN</td>\n",
       "      <td>NaN</td>\n",
       "      <td>NaN</td>\n",
       "      <td>NaN</td>\n",
       "      <td>...</td>\n",
       "      <td>NaN</td>\n",
       "      <td>NaN</td>\n",
       "      <td>NaN</td>\n",
       "      <td>NaN</td>\n",
       "      <td>NaN</td>\n",
       "      <td>NaN</td>\n",
       "      <td>NaN</td>\n",
       "      <td>NaN</td>\n",
       "      <td>NaN</td>\n",
       "      <td>NaN</td>\n",
       "    </tr>\n",
       "    <tr>\n",
       "      <th>Good Wives: Image and Reality in the Lives of Women in Northern New England, 1650-1750</th>\n",
       "      <td>NaN</td>\n",
       "      <td>NaN</td>\n",
       "      <td>NaN</td>\n",
       "      <td>NaN</td>\n",
       "      <td>NaN</td>\n",
       "      <td>NaN</td>\n",
       "      <td>NaN</td>\n",
       "      <td>NaN</td>\n",
       "      <td>NaN</td>\n",
       "      <td>NaN</td>\n",
       "      <td>...</td>\n",
       "      <td>NaN</td>\n",
       "      <td>NaN</td>\n",
       "      <td>NaN</td>\n",
       "      <td>NaN</td>\n",
       "      <td>NaN</td>\n",
       "      <td>NaN</td>\n",
       "      <td>NaN</td>\n",
       "      <td>NaN</td>\n",
       "      <td>NaN</td>\n",
       "      <td>NaN</td>\n",
       "    </tr>\n",
       "  </tbody>\n",
       "</table>\n",
       "<p>5 rows × 449 columns</p>\n",
       "</div>"
      ],
      "text/plain": [
       "user_id                                                                                                     2033.0  \\\n",
       "book_title                                                                                                           \n",
       " A Light in the Storm: The Civil War Diary of Amelia Martin, Fenwick Island, Delaware, 1861 (Dear America) NaN       \n",
       " Dark Justice                                                                                              NaN       \n",
       " Earth Prayers From around the World: 365 Prayers, Poems, and Invocations for Honoring the Earth           NaN       \n",
       " Final Fantasy Anthology: Official Strategy Guide (Brady Games)                                            NaN       \n",
       " Good Wives: Image and Reality in the Lives of Women in Northern New England, 1650-1750                    NaN       \n",
       "\n",
       "user_id                                                                                                     2110.0  \\\n",
       "book_title                                                                                                           \n",
       " A Light in the Storm: The Civil War Diary of Amelia Martin, Fenwick Island, Delaware, 1861 (Dear America) NaN       \n",
       " Dark Justice                                                                                              NaN       \n",
       " Earth Prayers From around the World: 365 Prayers, Poems, and Invocations for Honoring the Earth           NaN       \n",
       " Final Fantasy Anthology: Official Strategy Guide (Brady Games)                                            NaN       \n",
       " Good Wives: Image and Reality in the Lives of Women in Northern New England, 1650-1750                    NaN       \n",
       "\n",
       "user_id                                                                                                     2276.0  \\\n",
       "book_title                                                                                                           \n",
       " A Light in the Storm: The Civil War Diary of Amelia Martin, Fenwick Island, Delaware, 1861 (Dear America) NaN       \n",
       " Dark Justice                                                                                              NaN       \n",
       " Earth Prayers From around the World: 365 Prayers, Poems, and Invocations for Honoring the Earth           NaN       \n",
       " Final Fantasy Anthology: Official Strategy Guide (Brady Games)                                            NaN       \n",
       " Good Wives: Image and Reality in the Lives of Women in Northern New England, 1650-1750                    NaN       \n",
       "\n",
       "user_id                                                                                                     4017.0  \\\n",
       "book_title                                                                                                           \n",
       " A Light in the Storm: The Civil War Diary of Amelia Martin, Fenwick Island, Delaware, 1861 (Dear America) NaN       \n",
       " Dark Justice                                                                                              NaN       \n",
       " Earth Prayers From around the World: 365 Prayers, Poems, and Invocations for Honoring the Earth           NaN       \n",
       " Final Fantasy Anthology: Official Strategy Guide (Brady Games)                                            NaN       \n",
       " Good Wives: Image and Reality in the Lives of Women in Northern New England, 1650-1750                    NaN       \n",
       "\n",
       "user_id                                                                                                     4385.0  \\\n",
       "book_title                                                                                                           \n",
       " A Light in the Storm: The Civil War Diary of Amelia Martin, Fenwick Island, Delaware, 1861 (Dear America) NaN       \n",
       " Dark Justice                                                                                              NaN       \n",
       " Earth Prayers From around the World: 365 Prayers, Poems, and Invocations for Honoring the Earth           NaN       \n",
       " Final Fantasy Anthology: Official Strategy Guide (Brady Games)                                            NaN       \n",
       " Good Wives: Image and Reality in the Lives of Women in Northern New England, 1650-1750                    NaN       \n",
       "\n",
       "user_id                                                                                                     5582.0  \\\n",
       "book_title                                                                                                           \n",
       " A Light in the Storm: The Civil War Diary of Amelia Martin, Fenwick Island, Delaware, 1861 (Dear America) NaN       \n",
       " Dark Justice                                                                                              NaN       \n",
       " Earth Prayers From around the World: 365 Prayers, Poems, and Invocations for Honoring the Earth           NaN       \n",
       " Final Fantasy Anthology: Official Strategy Guide (Brady Games)                                            NaN       \n",
       " Good Wives: Image and Reality in the Lives of Women in Northern New England, 1650-1750                    NaN       \n",
       "\n",
       "user_id                                                                                                     6242.0  \\\n",
       "book_title                                                                                                           \n",
       " A Light in the Storm: The Civil War Diary of Amelia Martin, Fenwick Island, Delaware, 1861 (Dear America) NaN       \n",
       " Dark Justice                                                                                              NaN       \n",
       " Earth Prayers From around the World: 365 Prayers, Poems, and Invocations for Honoring the Earth           NaN       \n",
       " Final Fantasy Anthology: Official Strategy Guide (Brady Games)                                            NaN       \n",
       " Good Wives: Image and Reality in the Lives of Women in Northern New England, 1650-1750                    NaN       \n",
       "\n",
       "user_id                                                                                                     6251.0  \\\n",
       "book_title                                                                                                           \n",
       " A Light in the Storm: The Civil War Diary of Amelia Martin, Fenwick Island, Delaware, 1861 (Dear America) NaN       \n",
       " Dark Justice                                                                                              NaN       \n",
       " Earth Prayers From around the World: 365 Prayers, Poems, and Invocations for Honoring the Earth           NaN       \n",
       " Final Fantasy Anthology: Official Strategy Guide (Brady Games)                                            NaN       \n",
       " Good Wives: Image and Reality in the Lives of Women in Northern New England, 1650-1750                    NaN       \n",
       "\n",
       "user_id                                                                                                     6543.0  \\\n",
       "book_title                                                                                                           \n",
       " A Light in the Storm: The Civil War Diary of Amelia Martin, Fenwick Island, Delaware, 1861 (Dear America) NaN       \n",
       " Dark Justice                                                                                              NaN       \n",
       " Earth Prayers From around the World: 365 Prayers, Poems, and Invocations for Honoring the Earth           NaN       \n",
       " Final Fantasy Anthology: Official Strategy Guide (Brady Games)                                            NaN       \n",
       " Good Wives: Image and Reality in the Lives of Women in Northern New England, 1650-1750                    NaN       \n",
       "\n",
       "user_id                                                                                                     6575.0  \\\n",
       "book_title                                                                                                           \n",
       " A Light in the Storm: The Civil War Diary of Amelia Martin, Fenwick Island, Delaware, 1861 (Dear America) NaN       \n",
       " Dark Justice                                                                                              NaN       \n",
       " Earth Prayers From around the World: 365 Prayers, Poems, and Invocations for Honoring the Earth           NaN       \n",
       " Final Fantasy Anthology: Official Strategy Guide (Brady Games)                                            NaN       \n",
       " Good Wives: Image and Reality in the Lives of Women in Northern New England, 1650-1750                    NaN       \n",
       "\n",
       "user_id                                                                                                     ...  \\\n",
       "book_title                                                                                                  ...   \n",
       " A Light in the Storm: The Civil War Diary of Amelia Martin, Fenwick Island, Delaware, 1861 (Dear America)  ...   \n",
       " Dark Justice                                                                                               ...   \n",
       " Earth Prayers From around the World: 365 Prayers, Poems, and Invocations for Honoring the Earth            ...   \n",
       " Final Fantasy Anthology: Official Strategy Guide (Brady Games)                                             ...   \n",
       " Good Wives: Image and Reality in the Lives of Women in Northern New England, 1650-1750                     ...   \n",
       "\n",
       "user_id                                                                                                     269566.0  \\\n",
       "book_title                                                                                                             \n",
       " A Light in the Storm: The Civil War Diary of Amelia Martin, Fenwick Island, Delaware, 1861 (Dear America) NaN         \n",
       " Dark Justice                                                                                              NaN         \n",
       " Earth Prayers From around the World: 365 Prayers, Poems, and Invocations for Honoring the Earth           NaN         \n",
       " Final Fantasy Anthology: Official Strategy Guide (Brady Games)                                            NaN         \n",
       " Good Wives: Image and Reality in the Lives of Women in Northern New England, 1650-1750                    NaN         \n",
       "\n",
       "user_id                                                                                                     270713.0  \\\n",
       "book_title                                                                                                             \n",
       " A Light in the Storm: The Civil War Diary of Amelia Martin, Fenwick Island, Delaware, 1861 (Dear America) NaN         \n",
       " Dark Justice                                                                                              NaN         \n",
       " Earth Prayers From around the World: 365 Prayers, Poems, and Invocations for Honoring the Earth           NaN         \n",
       " Final Fantasy Anthology: Official Strategy Guide (Brady Games)                                            NaN         \n",
       " Good Wives: Image and Reality in the Lives of Women in Northern New England, 1650-1750                    NaN         \n",
       "\n",
       "user_id                                                                                                     271448.0  \\\n",
       "book_title                                                                                                             \n",
       " A Light in the Storm: The Civil War Diary of Amelia Martin, Fenwick Island, Delaware, 1861 (Dear America) NaN         \n",
       " Dark Justice                                                                                              NaN         \n",
       " Earth Prayers From around the World: 365 Prayers, Poems, and Invocations for Honoring the Earth           NaN         \n",
       " Final Fantasy Anthology: Official Strategy Guide (Brady Games)                                            NaN         \n",
       " Good Wives: Image and Reality in the Lives of Women in Northern New England, 1650-1750                    NaN         \n",
       "\n",
       "user_id                                                                                                     271705.0  \\\n",
       "book_title                                                                                                             \n",
       " A Light in the Storm: The Civil War Diary of Amelia Martin, Fenwick Island, Delaware, 1861 (Dear America) NaN         \n",
       " Dark Justice                                                                                              NaN         \n",
       " Earth Prayers From around the World: 365 Prayers, Poems, and Invocations for Honoring the Earth           NaN         \n",
       " Final Fantasy Anthology: Official Strategy Guide (Brady Games)                                            NaN         \n",
       " Good Wives: Image and Reality in the Lives of Women in Northern New England, 1650-1750                    NaN         \n",
       "\n",
       "user_id                                                                                                     273113.0  \\\n",
       "book_title                                                                                                             \n",
       " A Light in the Storm: The Civil War Diary of Amelia Martin, Fenwick Island, Delaware, 1861 (Dear America) NaN         \n",
       " Dark Justice                                                                                              NaN         \n",
       " Earth Prayers From around the World: 365 Prayers, Poems, and Invocations for Honoring the Earth           NaN         \n",
       " Final Fantasy Anthology: Official Strategy Guide (Brady Games)                                            NaN         \n",
       " Good Wives: Image and Reality in the Lives of Women in Northern New England, 1650-1750                    NaN         \n",
       "\n",
       "user_id                                                                                                     274061.0  \\\n",
       "book_title                                                                                                             \n",
       " A Light in the Storm: The Civil War Diary of Amelia Martin, Fenwick Island, Delaware, 1861 (Dear America) NaN         \n",
       " Dark Justice                                                                                              NaN         \n",
       " Earth Prayers From around the World: 365 Prayers, Poems, and Invocations for Honoring the Earth           NaN         \n",
       " Final Fantasy Anthology: Official Strategy Guide (Brady Games)                                            NaN         \n",
       " Good Wives: Image and Reality in the Lives of Women in Northern New England, 1650-1750                    NaN         \n",
       "\n",
       "user_id                                                                                                     274301.0  \\\n",
       "book_title                                                                                                             \n",
       " A Light in the Storm: The Civil War Diary of Amelia Martin, Fenwick Island, Delaware, 1861 (Dear America) NaN         \n",
       " Dark Justice                                                                                              NaN         \n",
       " Earth Prayers From around the World: 365 Prayers, Poems, and Invocations for Honoring the Earth           NaN         \n",
       " Final Fantasy Anthology: Official Strategy Guide (Brady Games)                                            NaN         \n",
       " Good Wives: Image and Reality in the Lives of Women in Northern New England, 1650-1750                    NaN         \n",
       "\n",
       "user_id                                                                                                     275970.0  \\\n",
       "book_title                                                                                                             \n",
       " A Light in the Storm: The Civil War Diary of Amelia Martin, Fenwick Island, Delaware, 1861 (Dear America) NaN         \n",
       " Dark Justice                                                                                              NaN         \n",
       " Earth Prayers From around the World: 365 Prayers, Poems, and Invocations for Honoring the Earth           NaN         \n",
       " Final Fantasy Anthology: Official Strategy Guide (Brady Games)                                            NaN         \n",
       " Good Wives: Image and Reality in the Lives of Women in Northern New England, 1650-1750                    NaN         \n",
       "\n",
       "user_id                                                                                                     277427.0  \\\n",
       "book_title                                                                                                             \n",
       " A Light in the Storm: The Civil War Diary of Amelia Martin, Fenwick Island, Delaware, 1861 (Dear America) NaN         \n",
       " Dark Justice                                                                                              NaN         \n",
       " Earth Prayers From around the World: 365 Prayers, Poems, and Invocations for Honoring the Earth           NaN         \n",
       " Final Fantasy Anthology: Official Strategy Guide (Brady Games)                                            NaN         \n",
       " Good Wives: Image and Reality in the Lives of Women in Northern New England, 1650-1750                    NaN         \n",
       "\n",
       "user_id                                                                                                     278418.0  \n",
       "book_title                                                                                                            \n",
       " A Light in the Storm: The Civil War Diary of Amelia Martin, Fenwick Island, Delaware, 1861 (Dear America) NaN        \n",
       " Dark Justice                                                                                              NaN        \n",
       " Earth Prayers From around the World: 365 Prayers, Poems, and Invocations for Honoring the Earth           NaN        \n",
       " Final Fantasy Anthology: Official Strategy Guide (Brady Games)                                            NaN        \n",
       " Good Wives: Image and Reality in the Lives of Women in Northern New England, 1650-1750                    NaN        \n",
       "\n",
       "[5 rows x 449 columns]"
      ]
     },
     "execution_count": 488,
     "metadata": {},
     "output_type": "execute_result"
    }
   ],
   "source": [
    "book_rater_pivot_table.head()"
   ]
  },
  {
   "cell_type": "markdown",
   "id": "7f68db02",
   "metadata": {},
   "source": [
    "### Create a 2D Matrix\n",
    "- we fill the missing values to 0's since we have to calculate distances between rating vectors\n",
    "- convert our pivot table into a 2D matrix"
   ]
  },
  {
   "cell_type": "code",
   "execution_count": 525,
   "id": "32fb43ac",
   "metadata": {},
   "outputs": [],
   "source": [
    "# fill all NaN values in pivot table to 0\n",
    "book_rater_pivot_table = book_rater_pivot_table.fillna(0)"
   ]
  },
  {
   "cell_type": "code",
   "execution_count": 526,
   "id": "d272ef17",
   "metadata": {},
   "outputs": [],
   "source": [
    "# scipy sparse matrix allows for efficienct calculations\n",
    "from scipy.sparse import csr_matrix\n",
    "\n",
    "book_rater_matrix = csr_matrix(book_rater_pivot_table.values)"
   ]
  },
  {
   "cell_type": "markdown",
   "id": "4603fcf5",
   "metadata": {},
   "source": [
    "### Model Training"
   ]
  },
  {
   "cell_type": "code",
   "execution_count": 853,
   "id": "3f00c399",
   "metadata": {},
   "outputs": [
    {
     "data": {
      "text/html": [
       "<style>#sk-container-id-6 {color: black;background-color: white;}#sk-container-id-6 pre{padding: 0;}#sk-container-id-6 div.sk-toggleable {background-color: white;}#sk-container-id-6 label.sk-toggleable__label {cursor: pointer;display: block;width: 100%;margin-bottom: 0;padding: 0.3em;box-sizing: border-box;text-align: center;}#sk-container-id-6 label.sk-toggleable__label-arrow:before {content: \"▸\";float: left;margin-right: 0.25em;color: #696969;}#sk-container-id-6 label.sk-toggleable__label-arrow:hover:before {color: black;}#sk-container-id-6 div.sk-estimator:hover label.sk-toggleable__label-arrow:before {color: black;}#sk-container-id-6 div.sk-toggleable__content {max-height: 0;max-width: 0;overflow: hidden;text-align: left;background-color: #f0f8ff;}#sk-container-id-6 div.sk-toggleable__content pre {margin: 0.2em;color: black;border-radius: 0.25em;background-color: #f0f8ff;}#sk-container-id-6 input.sk-toggleable__control:checked~div.sk-toggleable__content {max-height: 200px;max-width: 100%;overflow: auto;}#sk-container-id-6 input.sk-toggleable__control:checked~label.sk-toggleable__label-arrow:before {content: \"▾\";}#sk-container-id-6 div.sk-estimator input.sk-toggleable__control:checked~label.sk-toggleable__label {background-color: #d4ebff;}#sk-container-id-6 div.sk-label input.sk-toggleable__control:checked~label.sk-toggleable__label {background-color: #d4ebff;}#sk-container-id-6 input.sk-hidden--visually {border: 0;clip: rect(1px 1px 1px 1px);clip: rect(1px, 1px, 1px, 1px);height: 1px;margin: -1px;overflow: hidden;padding: 0;position: absolute;width: 1px;}#sk-container-id-6 div.sk-estimator {font-family: monospace;background-color: #f0f8ff;border: 1px dotted black;border-radius: 0.25em;box-sizing: border-box;margin-bottom: 0.5em;}#sk-container-id-6 div.sk-estimator:hover {background-color: #d4ebff;}#sk-container-id-6 div.sk-parallel-item::after {content: \"\";width: 100%;border-bottom: 1px solid gray;flex-grow: 1;}#sk-container-id-6 div.sk-label:hover label.sk-toggleable__label {background-color: #d4ebff;}#sk-container-id-6 div.sk-serial::before {content: \"\";position: absolute;border-left: 1px solid gray;box-sizing: border-box;top: 0;bottom: 0;left: 50%;z-index: 0;}#sk-container-id-6 div.sk-serial {display: flex;flex-direction: column;align-items: center;background-color: white;padding-right: 0.2em;padding-left: 0.2em;position: relative;}#sk-container-id-6 div.sk-item {position: relative;z-index: 1;}#sk-container-id-6 div.sk-parallel {display: flex;align-items: stretch;justify-content: center;background-color: white;position: relative;}#sk-container-id-6 div.sk-item::before, #sk-container-id-6 div.sk-parallel-item::before {content: \"\";position: absolute;border-left: 1px solid gray;box-sizing: border-box;top: 0;bottom: 0;left: 50%;z-index: -1;}#sk-container-id-6 div.sk-parallel-item {display: flex;flex-direction: column;z-index: 1;position: relative;background-color: white;}#sk-container-id-6 div.sk-parallel-item:first-child::after {align-self: flex-end;width: 50%;}#sk-container-id-6 div.sk-parallel-item:last-child::after {align-self: flex-start;width: 50%;}#sk-container-id-6 div.sk-parallel-item:only-child::after {width: 0;}#sk-container-id-6 div.sk-dashed-wrapped {border: 1px dashed gray;margin: 0 0.4em 0.5em 0.4em;box-sizing: border-box;padding-bottom: 0.4em;background-color: white;}#sk-container-id-6 div.sk-label label {font-family: monospace;font-weight: bold;display: inline-block;line-height: 1.2em;}#sk-container-id-6 div.sk-label-container {text-align: center;}#sk-container-id-6 div.sk-container {/* jupyter's `normalize.less` sets `[hidden] { display: none; }` but bootstrap.min.css set `[hidden] { display: none !important; }` so we also need the `!important` here to be able to override the default hidden behavior on the sphinx rendered scikit-learn.org. See: https://github.com/scikit-learn/scikit-learn/issues/21755 */display: inline-block !important;position: relative;}#sk-container-id-6 div.sk-text-repr-fallback {display: none;}</style><div id=\"sk-container-id-6\" class=\"sk-top-container\"><div class=\"sk-text-repr-fallback\"><pre>NearestNeighbors(metric=&#x27;cosine&#x27;)</pre><b>In a Jupyter environment, please rerun this cell to show the HTML representation or trust the notebook. <br />On GitHub, the HTML representation is unable to render, please try loading this page with nbviewer.org.</b></div><div class=\"sk-container\" hidden><div class=\"sk-item\"><div class=\"sk-estimator sk-toggleable\"><input class=\"sk-toggleable__control sk-hidden--visually\" id=\"sk-estimator-id-6\" type=\"checkbox\" checked><label for=\"sk-estimator-id-6\" class=\"sk-toggleable__label sk-toggleable__label-arrow\">NearestNeighbors</label><div class=\"sk-toggleable__content\"><pre>NearestNeighbors(metric=&#x27;cosine&#x27;)</pre></div></div></div></div></div>"
      ],
      "text/plain": [
       "NearestNeighbors(metric='cosine')"
      ]
     },
     "execution_count": 853,
     "metadata": {},
     "output_type": "execute_result"
    }
   ],
   "source": [
    "from sklearn.neighbors import NearestNeighbors\n",
    "\n",
    "knn_model = NearestNeighbors(algorithm ='auto', metric='cosine')\n",
    "knn_model.fit(book_rater_matrix)"
   ]
  },
  {
   "cell_type": "markdown",
   "id": "2b2283eb",
   "metadata": {},
   "source": [
    "### Recommender Functions"
   ]
  },
  {
   "cell_type": "code",
   "execution_count": 866,
   "id": "0168dcab",
   "metadata": {},
   "outputs": [],
   "source": [
    "# this function will take a book title as a parameter and return the top k books with user-based coll\n",
    "def recommend_me(book):\n",
    "\n",
    "    X = (book_rater_pivot_table[book_rater_pivot_table.index == book]).to_numpy().reshape(1,-1)\n",
    "\n",
    "    distances, indices = model.kneighbors(X,n_neighbors=8)\n",
    "    \n",
    "    print('Recommendations for {0}\\n'.format(book))\n",
    "    \n",
    "    for i in (range(0, len(distances.flatten()))):\n",
    "        if i == 0:\n",
    "            pass\n",
    "        else:\n",
    "            print('{0}: {1}, {2}'.format(i, book_rater_pivot_table.index[indices.flatten()[i]], distances.flatten()[i]))"
   ]
  },
  {
   "cell_type": "code",
   "execution_count": 814,
   "id": "b72f844c",
   "metadata": {},
   "outputs": [],
   "source": [
    "# this will randomly generate a book title\n",
    "def random_book():\n",
    "    return book_rater_pivot_table.index[np.random.choice(book_rater_pivot_table.shape[0])]"
   ]
  },
  {
   "cell_type": "markdown",
   "id": "248a5426",
   "metadata": {},
   "source": [
    "### Recommendation tests"
   ]
  },
  {
   "cell_type": "code",
   "execution_count": 867,
   "id": "b973adbf",
   "metadata": {},
   "outputs": [
    {
     "name": "stdout",
     "output_type": "stream",
     "text": [
      "Recommendations for The Da Vinci Code\n",
      "\n",
      "1: Angels &amp; Demons, 0.6659512685669161\n",
      "2: Sudden Mischief, 0.6851855109934675\n",
      "3: Thin Air, 0.6898595407016141\n",
      "4: Widow's Walk, 0.6901595521176096\n",
      "5: Sleep Tight (Onyx Book), 0.7098275303701321\n",
      "6: The Twentieth Wife: A Novel, 0.7103306171865174\n",
      "7: The Secret Life of Bees, 0.7108366911300672\n"
     ]
    }
   ],
   "source": [
    "recommend_me(\"The Da Vinci Code\")"
   ]
  },
  {
   "cell_type": "code",
   "execution_count": 868,
   "id": "44cecf07",
   "metadata": {},
   "outputs": [
    {
     "name": "stdout",
     "output_type": "stream",
     "text": [
      "Recommendations for Harry Potter and the Chamber of Secrets (Book 2)\n",
      "\n",
      "1: Harry Potter and the Prisoner of Azkaban (Book 3), 0.3117848901612861\n",
      "2: Harry Potter and the Goblet of Fire (Book 4), 0.3851457608159966\n",
      "3: Harry Potter and the Sorcerer's Stone (Harry Potter (Paperback)), 0.4632087898866173\n",
      "4: Harry Potter and the Sorcerer's Stone (Book 1), 0.49707561783110865\n",
      "5: Harry Potter and the Order of the Phoenix (Book 5), 0.5751529542719905\n",
      "6: The Fellowship of the Ring (The Lord of the Rings, Part 1), 0.7068453434890638\n",
      "7: Charlotte's Web (Trophy Newbery), 0.728662118327992\n"
     ]
    }
   ],
   "source": [
    "recommend_me(\"Harry Potter and the Chamber of Secrets (Book 2)\")"
   ]
  },
  {
   "cell_type": "code",
   "execution_count": 852,
   "id": "bc5d7db0",
   "metadata": {},
   "outputs": [
    {
     "name": "stdout",
     "output_type": "stream",
     "text": [
      "Recommendations for Jurassic Park\n",
      "\n",
      "1: The Lost World, 0.6641687742903724\n",
      "2: The Body Farm, 0.6788319263532404\n",
      "3: McNally's Caper (Archy McNally Novels (Paperback)), 0.6982630747689296\n",
      "4: Evergreen, 0.7003886173557063\n",
      "5: Congo, 0.7036224693170985\n",
      "6: Rising Sun, 0.7036351378986725\n",
      "7: The Terminal Man, 0.7088612555055237\n"
     ]
    }
   ],
   "source": [
    "recommend_me(\"Jurassic Park\")"
   ]
  },
  {
   "cell_type": "code",
   "execution_count": 817,
   "id": "4dcb1c0a",
   "metadata": {},
   "outputs": [
    {
     "name": "stdout",
     "output_type": "stream",
     "text": [
      "Recommendations for Where the Heart Is (Oprah's Book Club (Paperback))\n",
      "\n",
      "1: The Weight of Water, 0.6283692145666454\n",
      "2: Blue Diary, 0.6340001174711973\n",
      "3: Dry: A Memoir, 0.636862263545031\n",
      "4: The Lovely Bones: A Novel, 0.6526354452036713\n",
      "5: Until the Real Thing Comes Along:, 0.6684095980008508\n",
      "6: Shadows of Yesterday, 0.6704190845785811\n",
      "7: Deck the Halls (Holiday Classics), 0.6730376808397955\n"
     ]
    }
   ],
   "source": [
    "recommend_me(\"Where the Heart Is (Oprah's Book Club (Paperback))\")"
   ]
  },
  {
   "cell_type": "code",
   "execution_count": 830,
   "id": "c660fa65",
   "metadata": {},
   "outputs": [
    {
     "name": "stdout",
     "output_type": "stream",
     "text": [
      "Recommendations for The Diving Bell and the Butterfly : A Memoir of Life in Death\n",
      "\n",
      "1: The Hottest State: A Novel, 0.3532474553562701\n",
      "2: The Age of Miracles, 0.3571428571428572\n",
      "3: Ellen Gilchrist : Collected Stories, 0.3571428571428572\n",
      "4: The Short History of a Prince : A Novel, 0.35754426657497584\n",
      "5: News of the Spirit, 0.3633180421295925\n",
      "6: The Third Deadly Sin, 0.4082020313510778\n",
      "7: The Age of Grief, 0.42983705265336636\n"
     ]
    }
   ],
   "source": [
    "recommend_me('The Diving Bell and the Butterfly : A Memoir of Life in Death')"
   ]
  },
  {
   "cell_type": "code",
   "execution_count": 847,
   "id": "c8a04bed",
   "metadata": {},
   "outputs": [
    {
     "name": "stdout",
     "output_type": "stream",
     "text": [
      "Recommendations for The Town\n",
      "\n",
      "1: The Walking, 0.24043944650065308\n",
      "2: The House, 0.27372696079743686\n",
      "3: Salem's Lot, 0.3527817966752387\n",
      "4: The Mailman, 0.3699380808380639\n",
      "5: Vespers, 0.42218655362461577\n",
      "6: Revenge (L.a. Connections), 0.442738502088886\n",
      "7: Inner Simplicity : 100 Ways to Regain Peace and Nourish Your Souls, 0.4428289666183637\n"
     ]
    }
   ],
   "source": [
    "# book recommendation using a random book title\n",
    "recommend_me(random_book())"
   ]
  },
  {
   "cell_type": "code",
   "execution_count": 877,
   "id": "c6e98d3f",
   "metadata": {},
   "outputs": [
    {
     "name": "stdout",
     "output_type": "stream",
     "text": [
      "Recommendations for Blue Adept (Apprentice Adept (Paperback))\n",
      "\n",
      "1: Juxtaposition (Apprentice Adept (Paperback)), 0.3319405389964011\n",
      "2: Out of Phaze (Apprentice Adept (Paperback)), 0.3521432952734418\n",
      "3: Phaze Doubt (Apprentice Adept Series, Book 7), 0.3521432952734418\n",
      "4: Source of Magic, 0.35347027365393013\n",
      "5: Fortress of Frost and Fire (The Bard's Tale, Book 2), 0.35561873682532696\n",
      "6: Man from Mundania (Xanth Trilogy, No 12), 0.37994671148365744\n",
      "7: Isle of Woman (Geodyssey), 0.3978207696903052\n"
     ]
    }
   ],
   "source": [
    "recommend_me(random_book())"
   ]
  },
  {
   "cell_type": "markdown",
   "id": "84fa109e",
   "metadata": {},
   "source": [
    "### BONUS: Popularity based system"
   ]
  },
  {
   "cell_type": "code",
   "execution_count": 896,
   "id": "ed5f25bd",
   "metadata": {
    "scrolled": true
   },
   "outputs": [
    {
     "data": {
      "text/html": [
       "<div>\n",
       "<style scoped>\n",
       "    .dataframe tbody tr th:only-of-type {\n",
       "        vertical-align: middle;\n",
       "    }\n",
       "\n",
       "    .dataframe tbody tr th {\n",
       "        vertical-align: top;\n",
       "    }\n",
       "\n",
       "    .dataframe thead th {\n",
       "        text-align: right;\n",
       "    }\n",
       "</style>\n",
       "<table border=\"1\" class=\"dataframe\">\n",
       "  <thead>\n",
       "    <tr style=\"text-align: right;\">\n",
       "      <th></th>\n",
       "      <th>isbn</th>\n",
       "      <th>book_rating</th>\n",
       "      <th>book_title</th>\n",
       "      <th>book_author</th>\n",
       "      <th>year_of_publication</th>\n",
       "      <th>publisher</th>\n",
       "    </tr>\n",
       "  </thead>\n",
       "  <tbody>\n",
       "    <tr>\n",
       "      <th>0</th>\n",
       "      <td>0316666343</td>\n",
       "      <td>595.0</td>\n",
       "      <td>The Lovely Bones: A Novel</td>\n",
       "      <td>Alice Sebold</td>\n",
       "      <td>2002</td>\n",
       "      <td>Little, Brown</td>\n",
       "    </tr>\n",
       "    <tr>\n",
       "      <th>1</th>\n",
       "      <td>059035342X</td>\n",
       "      <td>411.0</td>\n",
       "      <td>Harry Potter and the Sorcerer's Stone (Harry Potter (Paperback))</td>\n",
       "      <td>J. K. Rowling</td>\n",
       "      <td>1999</td>\n",
       "      <td>Arthur A. Levine Books</td>\n",
       "    </tr>\n",
       "    <tr>\n",
       "      <th>2</th>\n",
       "      <td>043935806X</td>\n",
       "      <td>409.0</td>\n",
       "      <td>Harry Potter and the Order of the Phoenix (Book 5)</td>\n",
       "      <td>J. K. Rowling</td>\n",
       "      <td>2003</td>\n",
       "      <td>Scholastic</td>\n",
       "    </tr>\n",
       "    <tr>\n",
       "      <th>3</th>\n",
       "      <td>0385504209</td>\n",
       "      <td>400.0</td>\n",
       "      <td>The Da Vinci Code</td>\n",
       "      <td>Dan Brown</td>\n",
       "      <td>2003</td>\n",
       "      <td>Doubleday</td>\n",
       "    </tr>\n",
       "    <tr>\n",
       "      <th>4</th>\n",
       "      <td>0312195516</td>\n",
       "      <td>375.0</td>\n",
       "      <td>The Red Tent (Bestselling Backlist)</td>\n",
       "      <td>Anita Diamant</td>\n",
       "      <td>1998</td>\n",
       "      <td>Picador USA</td>\n",
       "    </tr>\n",
       "    <tr>\n",
       "      <th>5</th>\n",
       "      <td>0446310786</td>\n",
       "      <td>358.0</td>\n",
       "      <td>To Kill a Mockingbird</td>\n",
       "      <td>Harper Lee</td>\n",
       "      <td>1988</td>\n",
       "      <td>Little Brown &amp;amp; Company</td>\n",
       "    </tr>\n",
       "    <tr>\n",
       "      <th>6</th>\n",
       "      <td>0439139597</td>\n",
       "      <td>331.0</td>\n",
       "      <td>Harry Potter and the Goblet of Fire (Book 4)</td>\n",
       "      <td>J. K. Rowling</td>\n",
       "      <td>2000</td>\n",
       "      <td>Scholastic</td>\n",
       "    </tr>\n",
       "    <tr>\n",
       "      <th>7</th>\n",
       "      <td>0345370775</td>\n",
       "      <td>320.0</td>\n",
       "      <td>Jurassic Park</td>\n",
       "      <td>Michael Crichton</td>\n",
       "      <td>1999</td>\n",
       "      <td>Ballantine Books</td>\n",
       "    </tr>\n",
       "    <tr>\n",
       "      <th>8</th>\n",
       "      <td>0439136350</td>\n",
       "      <td>300.0</td>\n",
       "      <td>Harry Potter and the Prisoner of Azkaban (Book 3)</td>\n",
       "      <td>J. K. Rowling</td>\n",
       "      <td>1999</td>\n",
       "      <td>Scholastic</td>\n",
       "    </tr>\n",
       "    <tr>\n",
       "      <th>9</th>\n",
       "      <td>0439064864</td>\n",
       "      <td>295.0</td>\n",
       "      <td>Harry Potter and the Chamber of Secrets (Book 2)</td>\n",
       "      <td>J. K. Rowling</td>\n",
       "      <td>1999</td>\n",
       "      <td>Scholastic</td>\n",
       "    </tr>\n",
       "  </tbody>\n",
       "</table>\n",
       "</div>"
      ],
      "text/plain": [
       "         isbn  book_rating  \\\n",
       "0  0316666343  595.0         \n",
       "1  059035342X  411.0         \n",
       "2  043935806X  409.0         \n",
       "3  0385504209  400.0         \n",
       "4  0312195516  375.0         \n",
       "5  0446310786  358.0         \n",
       "6  0439139597  331.0         \n",
       "7  0345370775  320.0         \n",
       "8  0439136350  300.0         \n",
       "9  0439064864  295.0         \n",
       "\n",
       "                                                         book_title  \\\n",
       "0  The Lovely Bones: A Novel                                          \n",
       "1  Harry Potter and the Sorcerer's Stone (Harry Potter (Paperback))   \n",
       "2  Harry Potter and the Order of the Phoenix (Book 5)                 \n",
       "3  The Da Vinci Code                                                  \n",
       "4  The Red Tent (Bestselling Backlist)                                \n",
       "5  To Kill a Mockingbird                                              \n",
       "6  Harry Potter and the Goblet of Fire (Book 4)                       \n",
       "7  Jurassic Park                                                      \n",
       "8  Harry Potter and the Prisoner of Azkaban (Book 3)                  \n",
       "9  Harry Potter and the Chamber of Secrets (Book 2)                   \n",
       "\n",
       "        book_author  year_of_publication                   publisher  \n",
       "0  Alice Sebold      2002                 Little, Brown               \n",
       "1  J. K. Rowling     1999                 Arthur A. Levine Books      \n",
       "2  J. K. Rowling     2003                 Scholastic                  \n",
       "3  Dan Brown         2003                 Doubleday                   \n",
       "4  Anita Diamant     1998                 Picador USA                 \n",
       "5  Harper Lee        1988                 Little Brown &amp; Company  \n",
       "6  J. K. Rowling     2000                 Scholastic                  \n",
       "7  Michael Crichton  1999                 Ballantine Books            \n",
       "8  J. K. Rowling     1999                 Scholastic                  \n",
       "9  J. K. Rowling     1999                 Scholastic                  "
      ]
     },
     "execution_count": 896,
     "metadata": {},
     "output_type": "execute_result"
    }
   ],
   "source": [
    "count_ratings = pd.DataFrame(df_filtered.groupby(['isbn'])['book_rating'].sum())\n",
    "top_10 = count_ratings.sort_values('book_rating', ascending = False).head(10)\n",
    "top_10.merge(books, on='isbn', how='left')"
   ]
  }
 ],
 "metadata": {
  "kernelspec": {
   "display_name": "Python 3 (ipykernel)",
   "language": "python",
   "name": "python3"
  },
  "language_info": {
   "codemirror_mode": {
    "name": "ipython",
    "version": 3
   },
   "file_extension": ".py",
   "mimetype": "text/x-python",
   "name": "python",
   "nbconvert_exporter": "python",
   "pygments_lexer": "ipython3",
   "version": "3.9.12"
  }
 },
 "nbformat": 4,
 "nbformat_minor": 5
}
